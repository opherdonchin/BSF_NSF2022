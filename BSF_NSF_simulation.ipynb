{
  "nbformat": 4,
  "nbformat_minor": 0,
  "metadata": {
    "colab": {
      "name": "BSF_NSF_simulation.ipynb",
      "provenance": [],
      "toc_visible": true,
      "authorship_tag": "ABX9TyOWjP5xfdK8lxt04EpsVuha",
      "include_colab_link": true
    },
    "kernelspec": {
      "name": "python3",
      "display_name": "Python 3"
    },
    "language_info": {
      "name": "python"
    }
  },
  "cells": [
    {
      "cell_type": "markdown",
      "metadata": {
        "id": "view-in-github",
        "colab_type": "text"
      },
      "source": [
        "<a href=\"https://colab.research.google.com/github/opherdonchin/BSF_NSF2022/blob/main/BSF_NSF_simulation.ipynb\" target=\"_parent\"><img src=\"https://colab.research.google.com/assets/colab-badge.svg\" alt=\"Open In Colab\"/></a>"
      ]
    },
    {
      "cell_type": "code",
      "source": [
        "!pip install ypstruct"
      ],
      "metadata": {
        "colab": {
          "base_uri": "https://localhost:8080/"
        },
        "id": "XQVb5uBUDOyL",
        "outputId": "0baa9af6-0f35-4ced-d9ec-d9badd88df21"
      },
      "execution_count": 1,
      "outputs": [
        {
          "output_type": "stream",
          "name": "stdout",
          "text": [
            "Collecting ypstruct\n",
            "  Downloading ypstruct-0.0.2.tar.gz (3.0 kB)\n",
            "Building wheels for collected packages: ypstruct\n",
            "  Building wheel for ypstruct (setup.py) ... \u001b[?25l\u001b[?25hdone\n",
            "  Created wheel for ypstruct: filename=ypstruct-0.0.2-py3-none-any.whl size=2971 sha256=aa6c2705b5bd596d093580c14cb761e081d8b1c8144761853bdfa3b41b51d491\n",
            "  Stored in directory: /root/.cache/pip/wheels/62/c0/62/97e51a118545a181245d8111048d46ad4fbd0c0078c6804218\n",
            "Successfully built ypstruct\n",
            "Installing collected packages: ypstruct\n",
            "Successfully installed ypstruct-0.0.2\n"
          ]
        }
      ]
    },
    {
      "cell_type": "code",
      "source": [
        "import numpy as np\n",
        "import math\n",
        "import random\n",
        "import pandas as pd\n",
        "from matplotlib import pyplot as plt\n",
        "from ypstruct import *\n",
        "from scipy.special import expit\n",
        "from sklearn.linear_model import LinearRegression\n",
        "from scipy.optimize import curve_fit\n"
      ],
      "metadata": {
        "id": "QwMR9UFY8-sF"
      },
      "execution_count": 2,
      "outputs": []
    },
    {
      "cell_type": "code",
      "source": [
        "plt.rcParams[\"figure.figsize\"]\n",
        "plt.rcParams[\"figure.figsize\"] = (12,12)"
      ],
      "metadata": {
        "id": "EzLOEZvqvO7H"
      },
      "execution_count": 3,
      "outputs": []
    },
    {
      "cell_type": "markdown",
      "source": [
        "# Ideas copied from the Jordan and Donchin grant\n"
      ],
      "metadata": {
        "id": "M1SOSF4Lyp3w"
      }
    },
    {
      "cell_type": "markdown",
      "source": [
        "### Learning process and measures of skill\n",
        "\n",
        "The idea of Donchin and Jordan is to measure the effect of different motor learning processes on the development of motor skill. They consider three motor learning processes: **strategic**, **recalibration**, and **reinforcement learning**.\n",
        "\n",
        "**Recalibration** can be prevented by cursor delay. It asymptotes at a relative low value and saturates in rsponse to relatively small errors. **Strategic** processes can be prevented by limiting preparation time. **Reinforcement learning** can be controlled by controlling success rate. It is very slow. They propose manipulating each of these and see how skill learning is effected.\n",
        "\n",
        "Skill development is measured along three dimensions: *preparation*, *generalization*, and *feedback*. *Preparation* is measured by the slope of the preparation / accuracy tradeoff function. *Generalization* is measured by adaptation in movement to new directions. *Feedback* is measured by response to perturbations.\n",
        "\n",
        "**Recalibration** probably improves feedback processing and may improve motor preparation time. **Strategy** use increases *preparation* speed. It may also affect (increase?) generalization.**Reinforcement learning** may also contribute to *preparation* and *feedback* but less to generalization. \n",
        "\n"
      ],
      "metadata": {
        "id": "5q_TuK94ixNW"
      }
    },
    {
      "cell_type": "markdown",
      "source": [
        "# The structure of the task\n",
        "\n",
        "Movements are made to 6 targets, spaced 60° apart. Reaction time will be controlled. Success windows (both for movement onset accuracy and for movement direction accuracy) will be manipulated to control success rate. Base success rate will be 70%. \n",
        "\n",
        "4 blocks in the experiment\n",
        "\n",
        "- Familiarization, 300 movememnts, veridical feedback\n",
        "- Baseline, 150 movements, veridical feedback, skill measures\n",
        "  - I changed this to 160 so there would be 4 of each probe condition for each type of probe trial\n",
        "- Rotation, 1200 movememnts, 30° rotation, skill measures\n",
        "- Washout, 150 movements, no visual feedback, no strategy\n",
        "\n",
        "Baseline and rotation blocks will be 30% probe trials: 10% for each of *preparation*, *generalization*, and *feedback*. \n",
        "\n",
        "- *Preparation* probe trials have RT of 100 ms, 200 ms, 300 ms, or 400 ms (compared to 1,000 ms in non-probe trials). Adaptation with shorter preparation time is more skill.\n",
        "- *Generalization* probe trials have targets at ±10 or ±20. Greater generalization is more skill. \n",
        "- *Feedback* probe trials have target jump to ±10 or ±20 and we measure latency and accuracy of feedback corrections. Shorter latency and better accuracy mean more skill.\n",
        "\n"
      ],
      "metadata": {
        "id": "wI1rlYrsy5Vq"
      }
    },
    {
      "cell_type": "markdown",
      "source": [
        "## Code for task structure"
      ],
      "metadata": {
        "id": "EGG2l3W7M1Zm"
      }
    },
    {
      "cell_type": "code",
      "execution_count": 48,
      "metadata": {
        "id": "E3HBRBDeivR1"
      },
      "outputs": [],
      "source": [
        "blocks = [{'name': 'familiarization', 'num_mvmt': 300,  'feedback': True,  'rotation': 0,  'probe': False},\n",
        "          {'name': 'baseline',        'num_mvmt': 160,  'feedback': True,  'rotation': 0,  'probe': True },\n",
        "          {'name': 'rotation',        'num_mvmt': 1200, 'feedback': True,  'rotation': 30, 'probe': True },\n",
        "          {'name': 'washout',         'num_mvmt': 150,  'feedback': False, 'rotation': 0,  'probe': False},\n",
        "          ]\n",
        "num_blocks = len(blocks)\n",
        "\n",
        "probe_types = ['preparation', 'generalization', 'feedback']\n",
        "p_probe_per_type    = 0.1\n",
        "num_probe_types = len(probe_types)\n",
        "p_probe = num_probe_types*p_probe_per_type\n",
        "\n",
        "probe_conditions = [\n",
        "              [100, 200, 300, 400],\n",
        "              [-20, -10, 10, 20],\n",
        "              [-20, -10, 10, 20],\n",
        "]\n",
        "non_probe_condition = [600, 0, 0]\n",
        "num_conditions_per_probe = len(probe_conditions[0])\n",
        "\n",
        "mvmt_list = list()\n",
        "for block in blocks:\n",
        "  num_mvmt = block['num_mvmt']\n",
        "  probe_block = block['probe']\n",
        "  if probe_block:\n",
        "    num_probe_per_type = int(p_probe_per_type*num_mvmt)\n",
        "    num_prob_total = num_probe_types*num_probe_per_type\n",
        "    all_probe_mvmts = random.sample(range(num_mvmt), num_prob_total) # These are all the probe movements for all types\n",
        "    # Then we separate it into three sets, one for each type\n",
        "    probe_mvmts = [all_probe_mvmts[(i*num_probe_per_type):((i+1)*num_probe_per_type)] for i in range(num_probe_types)]\n",
        "\n",
        "    num_per_condition = int(num_probe_per_type / num_conditions_per_probe)\n",
        "    # This is supposed to generate a shuffling of the 4 probe conditions the appropriate number of times \n",
        "    probe_conditions_rand = list()\n",
        "    for condition_list in probe_conditions:\n",
        "      probe_conditions_rand.append(\n",
        "          [\n",
        "           condition for i in range(num_per_condition) for condition in random.sample(condition_list, len(condition_list))\n",
        "           ]\n",
        "           )\n",
        "\n",
        "  for mvmt_num in range(num_mvmt):\n",
        "    this_mvmt = dict()\n",
        "    this_mvmt['block'] = block['name']\n",
        "    this_mvmt['feedback'] = block['feedback']\n",
        "    this_mvmt['rotation'] = block['rotation']\n",
        "\n",
        "    this_mvmt['probe_type'] = ''\n",
        "    this_mvmt['probe_condition'] = ''\n",
        "    if probe_block:\n",
        "      # Get whether this is a probe trial by looking at all the enumerated probe trals\n",
        "      probe_type_n = [i for (i, probe_mvmt_list) in enumerate(probe_mvmts) if mvmt_num in probe_mvmt_list]\n",
        " \n",
        "      if probe_type_n:\n",
        "        probe_type_n = probe_type_n[0]\n",
        "        if mvmt_num in probe_mvmts[probe_type_n]:\n",
        "           probe_condition = [c for (i, c) in enumerate(probe_conditions_rand[probe_type_n]) if probe_mvmts[probe_type_n][i] == mvmt_num][0]\n",
        "        this_mvmt['probe_type'] = probe_types[probe_type_n]\n",
        "        this_mvmt['probe_condition'] = probe_condition\n",
        "    mvmt_list.append(this_mvmt)  \n",
        "\n",
        "\n",
        "mvmt_table = pd.DataFrame(mvmt_list)\n",
        "\n",
        "    \n"
      ]
    },
    {
      "cell_type": "code",
      "source": [
        "mvmt_table.head()"
      ],
      "metadata": {
        "colab": {
          "base_uri": "https://localhost:8080/",
          "height": 206
        },
        "id": "JOrCHcqlB7pA",
        "outputId": "73465923-2a2c-4db8-e18b-72dfb2c8d844"
      },
      "execution_count": 49,
      "outputs": [
        {
          "output_type": "execute_result",
          "data": {
            "text/plain": [
              "             block  feedback  rotation probe_type probe_condition\n",
              "0  familiarization      True         0                           \n",
              "1  familiarization      True         0                           \n",
              "2  familiarization      True         0                           \n",
              "3  familiarization      True         0                           \n",
              "4  familiarization      True         0                           "
            ],
            "text/html": [
              "\n",
              "  <div id=\"df-5e6b008a-163d-49dd-bc8f-3bc1b158ed9d\">\n",
              "    <div class=\"colab-df-container\">\n",
              "      <div>\n",
              "<style scoped>\n",
              "    .dataframe tbody tr th:only-of-type {\n",
              "        vertical-align: middle;\n",
              "    }\n",
              "\n",
              "    .dataframe tbody tr th {\n",
              "        vertical-align: top;\n",
              "    }\n",
              "\n",
              "    .dataframe thead th {\n",
              "        text-align: right;\n",
              "    }\n",
              "</style>\n",
              "<table border=\"1\" class=\"dataframe\">\n",
              "  <thead>\n",
              "    <tr style=\"text-align: right;\">\n",
              "      <th></th>\n",
              "      <th>block</th>\n",
              "      <th>feedback</th>\n",
              "      <th>rotation</th>\n",
              "      <th>probe_type</th>\n",
              "      <th>probe_condition</th>\n",
              "    </tr>\n",
              "  </thead>\n",
              "  <tbody>\n",
              "    <tr>\n",
              "      <th>0</th>\n",
              "      <td>familiarization</td>\n",
              "      <td>True</td>\n",
              "      <td>0</td>\n",
              "      <td></td>\n",
              "      <td></td>\n",
              "    </tr>\n",
              "    <tr>\n",
              "      <th>1</th>\n",
              "      <td>familiarization</td>\n",
              "      <td>True</td>\n",
              "      <td>0</td>\n",
              "      <td></td>\n",
              "      <td></td>\n",
              "    </tr>\n",
              "    <tr>\n",
              "      <th>2</th>\n",
              "      <td>familiarization</td>\n",
              "      <td>True</td>\n",
              "      <td>0</td>\n",
              "      <td></td>\n",
              "      <td></td>\n",
              "    </tr>\n",
              "    <tr>\n",
              "      <th>3</th>\n",
              "      <td>familiarization</td>\n",
              "      <td>True</td>\n",
              "      <td>0</td>\n",
              "      <td></td>\n",
              "      <td></td>\n",
              "    </tr>\n",
              "    <tr>\n",
              "      <th>4</th>\n",
              "      <td>familiarization</td>\n",
              "      <td>True</td>\n",
              "      <td>0</td>\n",
              "      <td></td>\n",
              "      <td></td>\n",
              "    </tr>\n",
              "  </tbody>\n",
              "</table>\n",
              "</div>\n",
              "      <button class=\"colab-df-convert\" onclick=\"convertToInteractive('df-5e6b008a-163d-49dd-bc8f-3bc1b158ed9d')\"\n",
              "              title=\"Convert this dataframe to an interactive table.\"\n",
              "              style=\"display:none;\">\n",
              "        \n",
              "  <svg xmlns=\"http://www.w3.org/2000/svg\" height=\"24px\"viewBox=\"0 0 24 24\"\n",
              "       width=\"24px\">\n",
              "    <path d=\"M0 0h24v24H0V0z\" fill=\"none\"/>\n",
              "    <path d=\"M18.56 5.44l.94 2.06.94-2.06 2.06-.94-2.06-.94-.94-2.06-.94 2.06-2.06.94zm-11 1L8.5 8.5l.94-2.06 2.06-.94-2.06-.94L8.5 2.5l-.94 2.06-2.06.94zm10 10l.94 2.06.94-2.06 2.06-.94-2.06-.94-.94-2.06-.94 2.06-2.06.94z\"/><path d=\"M17.41 7.96l-1.37-1.37c-.4-.4-.92-.59-1.43-.59-.52 0-1.04.2-1.43.59L10.3 9.45l-7.72 7.72c-.78.78-.78 2.05 0 2.83L4 21.41c.39.39.9.59 1.41.59.51 0 1.02-.2 1.41-.59l7.78-7.78 2.81-2.81c.8-.78.8-2.07 0-2.86zM5.41 20L4 18.59l7.72-7.72 1.47 1.35L5.41 20z\"/>\n",
              "  </svg>\n",
              "      </button>\n",
              "      \n",
              "  <style>\n",
              "    .colab-df-container {\n",
              "      display:flex;\n",
              "      flex-wrap:wrap;\n",
              "      gap: 12px;\n",
              "    }\n",
              "\n",
              "    .colab-df-convert {\n",
              "      background-color: #E8F0FE;\n",
              "      border: none;\n",
              "      border-radius: 50%;\n",
              "      cursor: pointer;\n",
              "      display: none;\n",
              "      fill: #1967D2;\n",
              "      height: 32px;\n",
              "      padding: 0 0 0 0;\n",
              "      width: 32px;\n",
              "    }\n",
              "\n",
              "    .colab-df-convert:hover {\n",
              "      background-color: #E2EBFA;\n",
              "      box-shadow: 0px 1px 2px rgba(60, 64, 67, 0.3), 0px 1px 3px 1px rgba(60, 64, 67, 0.15);\n",
              "      fill: #174EA6;\n",
              "    }\n",
              "\n",
              "    [theme=dark] .colab-df-convert {\n",
              "      background-color: #3B4455;\n",
              "      fill: #D2E3FC;\n",
              "    }\n",
              "\n",
              "    [theme=dark] .colab-df-convert:hover {\n",
              "      background-color: #434B5C;\n",
              "      box-shadow: 0px 1px 3px 1px rgba(0, 0, 0, 0.15);\n",
              "      filter: drop-shadow(0px 1px 2px rgba(0, 0, 0, 0.3));\n",
              "      fill: #FFFFFF;\n",
              "    }\n",
              "  </style>\n",
              "\n",
              "      <script>\n",
              "        const buttonEl =\n",
              "          document.querySelector('#df-5e6b008a-163d-49dd-bc8f-3bc1b158ed9d button.colab-df-convert');\n",
              "        buttonEl.style.display =\n",
              "          google.colab.kernel.accessAllowed ? 'block' : 'none';\n",
              "\n",
              "        async function convertToInteractive(key) {\n",
              "          const element = document.querySelector('#df-5e6b008a-163d-49dd-bc8f-3bc1b158ed9d');\n",
              "          const dataTable =\n",
              "            await google.colab.kernel.invokeFunction('convertToInteractive',\n",
              "                                                     [key], {});\n",
              "          if (!dataTable) return;\n",
              "\n",
              "          const docLinkHtml = 'Like what you see? Visit the ' +\n",
              "            '<a target=\"_blank\" href=https://colab.research.google.com/notebooks/data_table.ipynb>data table notebook</a>'\n",
              "            + ' to learn more about interactive tables.';\n",
              "          element.innerHTML = '';\n",
              "          dataTable['output_type'] = 'display_data';\n",
              "          await google.colab.output.renderOutput(dataTable, element);\n",
              "          const docLink = document.createElement('div');\n",
              "          docLink.innerHTML = docLinkHtml;\n",
              "          element.appendChild(docLink);\n",
              "        }\n",
              "      </script>\n",
              "    </div>\n",
              "  </div>\n",
              "  "
            ]
          },
          "metadata": {},
          "execution_count": 49
        }
      ]
    },
    {
      "cell_type": "markdown",
      "source": [
        "# Define the model"
      ],
      "metadata": {
        "id": "ViKt8kIlNHYw"
      }
    },
    {
      "cell_type": "markdown",
      "source": [
        "## State update\n",
        "\n",
        "The model will have two or three states. We'll start with a two state model with a recalibration process, $r$, and a strategic process, $s$. The actual movement will include motor error, $\\epsilon$, and the perturbation, $p$. \n",
        "\n",
        "$\n",
        "\\begin{align}\n",
        "x_n & = x_{r,n} + x_{s,n} \\\\\n",
        "y_n & = x_n + p_n + \\epsilon_n \\\\\n",
        "\\epsilon_n & \\sim N(0, \\sigma^2_{\\epsilon})\n",
        "\\end{align}\n",
        "$\n",
        "\n",
        "We will assume that the recalibration process is sensitive to sensory prediction error, $x_n - y_n$, while the strategic process is sensitive to target error, $y_n$. Each has a learning, $B$, and forgetting, $A$, term and Eeach of them includes a noise term, $\\eta$\n",
        "\n",
        "$\n",
        "\\begin{align}\n",
        "x_{r,n+1} & = A_r x_{r,n} - B_r (y_n - x_{s,n}) + \\eta_{r,n} \\\\\n",
        "x_{s,n+1} & = A_s x_{s,n} - B_s y_n + \\eta_{s,n} \\\\\n",
        "\\eta_{r,n}, \\eta_{s,n} & \\sim N(0, \\sigma^2_{\\eta})\n",
        "\\end{align}\n",
        "$\n",
        "\n"
      ],
      "metadata": {
        "id": "yoFoJjYcynFu"
      }
    },
    {
      "cell_type": "markdown",
      "source": [
        "### Code for state update"
      ],
      "metadata": {
        "id": "jp0oo0WLM4eR"
      }
    },
    {
      "cell_type": "code",
      "source": [
        "def state_update(x: struct, phi, rho, p: struct, rot, vis):\n",
        "  epsilon = random.normalvariate(0, p.sep)\n",
        "  eta_r = random.normalvariate(0, p.seta)\n",
        "  eta_s = random.normalvariate(0, p.seta) \n",
        "  xn = x.r*rho + x.s*phi\n",
        "  hn = xn + epsilon\n",
        "  yn = hn + rot\n",
        "  x1 = struct()\n",
        "  if vis:\n",
        "    x1.r = p.Ar * x.r - p.Br * (yn - x.s*phi) + eta_r\n",
        "    x1.s = p.As * x.s - p.Bs * yn + eta_s\n",
        "  else:\n",
        "    x1.r = p.Ar * x.r + eta_r\n",
        "    x1.s = p.As * x.s + eta_s\n",
        "\n",
        "  return x1, yn, hn"
      ],
      "metadata": {
        "id": "kTbBSJtWIBde"
      },
      "execution_count": 5,
      "outputs": []
    },
    {
      "cell_type": "markdown",
      "source": [
        "## Skill learning\n",
        "\n",
        "According to the grant, skills are learned in response to each process. That is, recalibration will cause increased skill and strategic adaptation will aso cause increased skill. However, there are three skill processes, $S$, and each of them will be increased diferently by the two adaptation processes: *preparation*, $S_P$, *generatization*, $S_G$, and *feedback*, $S_F$. .\n",
        "\n",
        "There is some question as to what **in the adaptation process** actually drives the skill learning. The easiest for me to imagine is that the rate of adaptation is driving the skill learning: $S_r = B_r (x_n - y_n)$ and $S_s = B_s y_n$.\n",
        "\n",
        "I'll also magically assume that skill only increases. That's probably a dumb assumption. We weren't clear in the grant.\n",
        "\n",
        "$\n",
        "\\begin{align}\n",
        "\\Delta S_P & = \\alpha_{P,r} S_r^2 + \\alpha_{P,s} S_s^2 \\\\\n",
        "\\Delta S_G & = \\alpha_{G,r} S_r^2 + \\alpha_{G,s} S_s^2 \\\\\n",
        "\\Delta S_F & = \\alpha_{F,r} S_r^2 + \\alpha_{F,s} S_s^2\n",
        "\\end{align}\n",
        "$\n",
        "\n",
        "We could use these to drive the skill.\n",
        "\n",
        "We should also probably use a logistic / logit transform to keep the skill between $0$ and $1$. The code below this assumes that this is the case."
      ],
      "metadata": {
        "id": "1Fb0Kx0iEsti"
      }
    },
    {
      "cell_type": "markdown",
      "source": [
        "### Code for skill learning"
      ],
      "metadata": {
        "id": "zgSrEdWUNqLE"
      }
    },
    {
      "cell_type": "code",
      "source": [
        "def skill_learn(S, x: struct, p: struct, y):\n",
        "  S1 = struct()\n",
        "  Sr = ( p.Br * (x.r + x.s - y) )**2\n",
        "  Ss = ( p.Bs * y )**2\n",
        "  a = p.alpha\n",
        "  S1.P = S.P + a.Pr * Sr + a.Ps * Ss\n",
        "  S1.G = S.G + a.Gr * Sr + a.Gs * Ss\n",
        "  S1.F = S.F + a.Fr * Sr + a.Fs * Ss\n",
        "  return S1"
      ],
      "metadata": {
        "id": "ndseuwmhDdZ_"
      },
      "execution_count": 6,
      "outputs": []
    },
    {
      "cell_type": "markdown",
      "source": [
        "## Probe trials\n",
        "\n",
        "Probe trials manipulate a specific aspect of task condition and measure the effect on movement direction.\n"
      ],
      "metadata": {
        "id": "a6kXpUXeNzdV"
      }
    },
    {
      "cell_type": "markdown",
      "source": [
        "### *Preparation* probes affect **strategic**\n",
        "\n",
        "In *preparation* trials, the reaction time is manipulated. Reduced reaction time limits expression of **strategic** adaptation. We model this relationship as piecewise linear:\n",
        "\n",
        "$\n",
        "\\begin{align}\n",
        "x_{s}(RT) & = x_{s,\\infty} \\phi(RT) \\\\\n",
        "\\phi(RT) & = \\begin{cases}\n",
        "1 & \\text{if } RT_{\\infty} \\le RT \\\\\n",
        "\\phi_0 + \\frac{RT - RT_0}{RT_{\\infty}  - RT_0}(1-\\phi_0) & \\text{if } RT_0 \\le RT \\le RT_{\\infty} \\\\\n",
        "\\phi_0 & \\text{if } RT \\le RT_0\n",
        "\\end{cases}\n",
        "\\end{align}\n",
        "$\n",
        "\n",
        "Skill learning will increase $\\phi_0$ and reduce $RT_0$ causing the preparation / performance function to flatten."
      ],
      "metadata": {
        "id": "AdeBZ9TAk8Xc"
      }
    },
    {
      "cell_type": "markdown",
      "source": [
        "#### Code for effect of RT on strategic"
      ],
      "metadata": {
        "id": "TsIenPqVN7IP"
      }
    },
    {
      "cell_type": "code",
      "source": [
        "def preparation_phi(RT, S, p:struct):\n",
        "  eS = 2*(expit(S)-0.5)\n",
        "  phi0 = p.min_phi0 + eS*(p.max_phi0 - p.min_phi0)\n",
        "  RT0 = p.max_RT0 + eS*(p.min_RT0 - p.max_RT0)\n",
        "  RTinf = p.RTinf\n",
        "  RT = np.minimum(np.maximum(RT, RT0), RTinf)\n",
        "  return phi0 + (1-phi0)*(RT-RT0)/(RTinf - RT0)\n",
        "  "
      ],
      "metadata": {
        "id": "XCDQP4Ed0_pA"
      },
      "execution_count": 7,
      "outputs": []
    },
    {
      "cell_type": "markdown",
      "source": [
        "### *Generalization* probes affect **recalibration**\n",
        "In *generalization* trials, movements are made to a target that is different from the trained targets. We assume **strategic** adaptation is applied quite broadly and is not affected by the difference. In contrast, **recalibration** will be reduced as a function of the distance from the trained target.\n",
        "\n",
        "$\n",
        "\\begin{align}\n",
        "x_r(\\theta) & = x_{r,0} \\rho(\\theta) \\\\\n",
        "\\rho(\\theta) &= e^{- \\frac{\\theta^2}{\\rho_0^2}}\n",
        "\\end{align}\n",
        "$\n",
        "\n",
        "In this formulation, $\\rho_0$ gives the distance from the training target where **recalibration** falls to $\\frac{1}{3}$ of its maximum. Skill will increase $\\rho_0$."
      ],
      "metadata": {
        "id": "71_r-9EAE4vr"
      }
    },
    {
      "cell_type": "markdown",
      "source": [
        "#### Code for effect of generalization on recalibration"
      ],
      "metadata": {
        "id": "0JAO8MJpOEbn"
      }
    },
    {
      "cell_type": "code",
      "source": [
        "def generalization_rho(target, S, p:struct):\n",
        "  eS = 2*(expit(S)-0.5)\n",
        "  rho0 = p.min_rho0 + eS*(p.max_rho0 - p.min_rho0)\n",
        "  return np.exp(target*target / (rho0*rho0))"
      ],
      "metadata": {
        "id": "IJ-TnHYTIoKI"
      },
      "execution_count": 8,
      "outputs": []
    },
    {
      "cell_type": "markdown",
      "source": [
        "### *Feedback* probes affect movement\n",
        "\n",
        "In *feedback* probe trials, the target jumps during the movement. We can then measure the extent of correction following the jump. That is, we are assuming that if the feedback is processed very slowly, the movement will be identical to a movement to the original target. If the feedback is processed very quickly, the movement will be identical to a movement to the target that was jumped to. \n",
        "\n",
        "Thus, the outcome of the trial can be expressed in terms of the fraction of the distance the reach is between these two possibilities.\n",
        "\n",
        "$\n",
        "x = x_{\\text{original}} + (x_{\\text{jump}} - x_{\\text{original}}) \\tau\n",
        "$\n",
        "\n",
        "With the value of $\\tau$ increasing with skill"
      ],
      "metadata": {
        "id": "BhNzVDG3JljP"
      }
    },
    {
      "cell_type": "markdown",
      "source": [
        "#### Code for effect of feedback on actual movement"
      ],
      "metadata": {
        "id": "as1L6518Om9J"
      }
    },
    {
      "cell_type": "code",
      "source": [
        "def feedback_tau(S, p):\n",
        "  eS = 2*(expit(S)-0.5)\n",
        "  return p.min_tau + eS*(p.max_tau - p.min_tau)"
      ],
      "metadata": {
        "id": "9vkpbcc3LiPa"
      },
      "execution_count": 9,
      "outputs": []
    },
    {
      "cell_type": "markdown",
      "source": [
        "# Setting values of all constants\n",
        "\n",
        "Including:\n",
        "- Parameters of state: $A$, $B$, $\\sigma_{\\epsilon}$, $\\sigma_{\\eta}$, \n",
        "- Parameters of skill development: $\\alpha_{P,r}$, $\\alpha_{P,s}$, $\\alpha_{G,r}$, $\\alpha_{G,s}$, $\\alpha_{F,r}$, $\\alpha_{F,s}$.\n",
        "- Parameters of skill expression:\n",
        "  - Preparation: $\\phi_{0,\\text{min}}$, $\\phi_{0,\\text{max}}$, $RT_{0,\\text{min}}$, $RT_{0,\\text{max}}$\n",
        "  - Generalization: $\\rho_{0,\\text{min}}$, $\\rho_{0,\\text{max}}$\n",
        "  - Feedback: $\\tau_{\\text{min}}$, $\\tau_{\\text{max}}$"
      ],
      "metadata": {
        "id": "zV3Gf3fGlE8z"
      }
    },
    {
      "cell_type": "code",
      "source": [
        "# Parameter struct\n",
        "p0 = struct()"
      ],
      "metadata": {
        "id": "QyT0HBcSL4DP"
      },
      "execution_count": 10,
      "outputs": []
    },
    {
      "cell_type": "markdown",
      "source": [
        "## Parameters of state"
      ],
      "metadata": {
        "id": "ogH2c6PlOwC5"
      }
    },
    {
      "cell_type": "code",
      "source": [
        "p0.Ar = 0.98\n",
        "p0.Br = 0.01\n",
        "p0.As = 0.8\n",
        "p0.Bs = 0.2\n",
        "p0.sep = 0.001\n",
        "p0.seta = 0.001\n",
        "p0.x0 = struct()\n",
        "p0.x0.r = random.normalvariate(0, p0.seta)\n",
        "p0.x0.s = random.normalvariate(0, p0.seta)"
      ],
      "metadata": {
        "id": "lDC-wLsgQqiI"
      },
      "execution_count": 11,
      "outputs": []
    },
    {
      "cell_type": "markdown",
      "source": [
        "## Parameters of skill development"
      ],
      "metadata": {
        "id": "kGrBcJKQO0WW"
      }
    },
    {
      "cell_type": "code",
      "source": [
        "p0.alpha = struct()\n",
        "p0.alpha.Pr = 1e-4\n",
        "p0.alpha.Ps = 5e-4\n",
        "p0.alpha.Gr = 2e-4\n",
        "p0.alpha.Gs = 2e-4\n",
        "p0.alpha.Fr = 5e-4\n",
        "p0.alpha.Fs = 1e-4\n",
        "# Initial values of skill\n",
        "p0.S0 = struct() \n",
        "p0.S0.P = 0\n",
        "p0.S0.G = 0\n",
        "p0.S0.F = 0"
      ],
      "metadata": {
        "id": "yJ6oieaDvU1P"
      },
      "execution_count": 12,
      "outputs": []
    },
    {
      "cell_type": "markdown",
      "source": [
        "## Parameters of skill expression"
      ],
      "metadata": {
        "id": "1J6LsIhJO3nr"
      }
    },
    {
      "cell_type": "code",
      "source": [
        "p0.min_phi0 = 0.2\n",
        "p0.max_phi0 = 0.7\n",
        "p0.min_RT0 = 350\n",
        "p0.max_RT0 = 150\n",
        "p0.RTinf = 500\n",
        "p0.min_rho0 = 20\n",
        "p0.max_rho0 = 50\n",
        "p0.min_tau = 0.2\n",
        "p0.max_tau = 0.8"
      ],
      "metadata": {
        "id": "EEJZIZymTc1E"
      },
      "execution_count": 13,
      "outputs": []
    },
    {
      "cell_type": "markdown",
      "source": [
        "# Simulating the control condition\n"
      ],
      "metadata": {
        "id": "zQ-FKLlDlh2F"
      }
    },
    {
      "cell_type": "markdown",
      "source": [
        "## Code for simulation"
      ],
      "metadata": {
        "id": "z3AWW2OuUEGC"
      }
    },
    {
      "cell_type": "code",
      "source": [
        "def run_experiment(mvmt_table, p0):\n",
        "  x = struct()\n",
        "  x.r = p0.x0.r\n",
        "  x.s = p0.x0.s\n",
        "\n",
        "  S = struct()\n",
        "  S.P = p0.S0.P\n",
        "  S.G = p0.S0.G\n",
        "  S.F = p0.S0.F\n",
        "\n",
        "  mvmt_table = mvmt_table.copy()\n",
        "  mvmt_table = mvmt_table.assign(\n",
        "      xs=np.nan, xr=np.nan,\n",
        "      SP=np.nan, SG=np.nan, SF=np.nan,\n",
        "      y=np.nan, h=np.nan,\n",
        "      phi=np.nan, rho=np.nan, tau=np.nan)\n",
        "  for mvmt_num, mvmt in mvmt_table.iterrows():\n",
        "    rot = mvmt.rotation\n",
        "\n",
        "    mvmt_table.loc[mvmt_num, [\"xr\", \"xs\"]] = [x.r, x.s]\n",
        "    mvmt_table.loc[mvmt_num, [\"SP\", \"SG\", \"SF\"]] = [S.P, S.G, S.F]\n",
        "\n",
        "    # Get current trial conditions\n",
        "    rt = mvmt.probe_condition if mvmt.probe_type == 'preparation' else non_probe_condition[0]\n",
        "    target = mvmt.probe_condition if mvmt.probe_type == 'generalization' else non_probe_condition[1]\n",
        "    vis = mvmt.probe_type == ''\n",
        "\n",
        "    # Set behavior according to skill and conditions\n",
        "    p = p0\n",
        "    phi = preparation_phi(rt, S.P, p)\n",
        "    rho = generalization_rho(target, S.G, p)\n",
        "    tau = feedback_tau(S.F, p)\n",
        "\n",
        "    \n",
        "    # User current behavior to update state\n",
        "    x1,yn,hn = state_update(x, phi, rho, p, rot, vis)\n",
        "    S1 = skill_learn(S, x, p, yn)\n",
        "\n",
        "    if mvmt.probe_type == 'feedback':\n",
        "      jump_target = mvmt.probe_condition\n",
        "      \n",
        "      rho_jump = generalization_rho(jump_target, S.G, p)\n",
        "      x_jump,y_jump, h_jump = state_update(x, phi, rho_jump, p, rot, vis)\n",
        "      \n",
        "      y_jump = y_jump + jump_target\n",
        "      h_jump = h_jump + jump_target\n",
        "      yn = yn + tau*(y_jump - yn)\n",
        "      hn = hn + tau*(h_jump - hn)\n",
        "   \n",
        "\n",
        "    mvmt_table.loc[mvmt_num, [\"y\", \"h\"]] = [yn, hn]\n",
        "    mvmt_table.loc[mvmt_num, [\"phi\", \"rho\", \"tau\"]] = [phi, rho, tau]\n",
        "    \n",
        "\n",
        "    # Update state with new values\n",
        "    x = x1\n",
        "    S = S1\n",
        "  return mvmt_table\n",
        "\n",
        "mvmt_table = run_experiment(mvmt_table, p0)"
      ],
      "metadata": {
        "id": "HTJGpikqM-An"
      },
      "execution_count": 46,
      "outputs": []
    },
    {
      "cell_type": "code",
      "source": [
        "mvmt_table.head()"
      ],
      "metadata": {
        "colab": {
          "base_uri": "https://localhost:8080/",
          "height": 206
        },
        "id": "farwqbOQ1DLF",
        "outputId": "bdfa1839-a19b-4995-aa74-1cdecc7e20d4"
      },
      "execution_count": 32,
      "outputs": [
        {
          "output_type": "execute_result",
          "data": {
            "text/plain": [
              "             block  feedback  rotation probe_type probe_condition        xs  \\\n",
              "0  familiarization      True         0                             0.000704   \n",
              "1  familiarization      True         0                            -0.000127   \n",
              "2  familiarization      True         0                            -0.000330   \n",
              "3  familiarization      True         0                            -0.001854   \n",
              "4  familiarization      True         0                            -0.002503   \n",
              "\n",
              "         xr            SP            SG            SF         y         h  \\\n",
              "0  0.000097  0.000000e+00  0.000000e+00  0.000000e+00  0.001521  0.001521   \n",
              "1  0.000946  4.628302e-11  1.852151e-11  9.281507e-12 -0.000941 -0.000941   \n",
              "2  0.001186  6.403372e-11  2.567138e-11  1.298042e-11  0.001957  0.001957   \n",
              "3  0.000142  1.406175e-10  5.632425e-11  2.835529e-11 -0.001325 -0.001325   \n",
              "4 -0.000529  1.757485e-10  7.037907e-11  3.538867e-11 -0.001921 -0.001921   \n",
              "\n",
              "   phi  rho  tau  \n",
              "0  1.0  1.0  0.2  \n",
              "1  1.0  1.0  0.2  \n",
              "2  1.0  1.0  0.2  \n",
              "3  1.0  1.0  0.2  \n",
              "4  1.0  1.0  0.2  "
            ],
            "text/html": [
              "\n",
              "  <div id=\"df-fe36506c-e4fd-4953-8715-becad330cd72\">\n",
              "    <div class=\"colab-df-container\">\n",
              "      <div>\n",
              "<style scoped>\n",
              "    .dataframe tbody tr th:only-of-type {\n",
              "        vertical-align: middle;\n",
              "    }\n",
              "\n",
              "    .dataframe tbody tr th {\n",
              "        vertical-align: top;\n",
              "    }\n",
              "\n",
              "    .dataframe thead th {\n",
              "        text-align: right;\n",
              "    }\n",
              "</style>\n",
              "<table border=\"1\" class=\"dataframe\">\n",
              "  <thead>\n",
              "    <tr style=\"text-align: right;\">\n",
              "      <th></th>\n",
              "      <th>block</th>\n",
              "      <th>feedback</th>\n",
              "      <th>rotation</th>\n",
              "      <th>probe_type</th>\n",
              "      <th>probe_condition</th>\n",
              "      <th>xs</th>\n",
              "      <th>xr</th>\n",
              "      <th>SP</th>\n",
              "      <th>SG</th>\n",
              "      <th>SF</th>\n",
              "      <th>y</th>\n",
              "      <th>h</th>\n",
              "      <th>phi</th>\n",
              "      <th>rho</th>\n",
              "      <th>tau</th>\n",
              "    </tr>\n",
              "  </thead>\n",
              "  <tbody>\n",
              "    <tr>\n",
              "      <th>0</th>\n",
              "      <td>familiarization</td>\n",
              "      <td>True</td>\n",
              "      <td>0</td>\n",
              "      <td></td>\n",
              "      <td></td>\n",
              "      <td>0.000704</td>\n",
              "      <td>0.000097</td>\n",
              "      <td>0.000000e+00</td>\n",
              "      <td>0.000000e+00</td>\n",
              "      <td>0.000000e+00</td>\n",
              "      <td>0.001521</td>\n",
              "      <td>0.001521</td>\n",
              "      <td>1.0</td>\n",
              "      <td>1.0</td>\n",
              "      <td>0.2</td>\n",
              "    </tr>\n",
              "    <tr>\n",
              "      <th>1</th>\n",
              "      <td>familiarization</td>\n",
              "      <td>True</td>\n",
              "      <td>0</td>\n",
              "      <td></td>\n",
              "      <td></td>\n",
              "      <td>-0.000127</td>\n",
              "      <td>0.000946</td>\n",
              "      <td>4.628302e-11</td>\n",
              "      <td>1.852151e-11</td>\n",
              "      <td>9.281507e-12</td>\n",
              "      <td>-0.000941</td>\n",
              "      <td>-0.000941</td>\n",
              "      <td>1.0</td>\n",
              "      <td>1.0</td>\n",
              "      <td>0.2</td>\n",
              "    </tr>\n",
              "    <tr>\n",
              "      <th>2</th>\n",
              "      <td>familiarization</td>\n",
              "      <td>True</td>\n",
              "      <td>0</td>\n",
              "      <td></td>\n",
              "      <td></td>\n",
              "      <td>-0.000330</td>\n",
              "      <td>0.001186</td>\n",
              "      <td>6.403372e-11</td>\n",
              "      <td>2.567138e-11</td>\n",
              "      <td>1.298042e-11</td>\n",
              "      <td>0.001957</td>\n",
              "      <td>0.001957</td>\n",
              "      <td>1.0</td>\n",
              "      <td>1.0</td>\n",
              "      <td>0.2</td>\n",
              "    </tr>\n",
              "    <tr>\n",
              "      <th>3</th>\n",
              "      <td>familiarization</td>\n",
              "      <td>True</td>\n",
              "      <td>0</td>\n",
              "      <td></td>\n",
              "      <td></td>\n",
              "      <td>-0.001854</td>\n",
              "      <td>0.000142</td>\n",
              "      <td>1.406175e-10</td>\n",
              "      <td>5.632425e-11</td>\n",
              "      <td>2.835529e-11</td>\n",
              "      <td>-0.001325</td>\n",
              "      <td>-0.001325</td>\n",
              "      <td>1.0</td>\n",
              "      <td>1.0</td>\n",
              "      <td>0.2</td>\n",
              "    </tr>\n",
              "    <tr>\n",
              "      <th>4</th>\n",
              "      <td>familiarization</td>\n",
              "      <td>True</td>\n",
              "      <td>0</td>\n",
              "      <td></td>\n",
              "      <td></td>\n",
              "      <td>-0.002503</td>\n",
              "      <td>-0.000529</td>\n",
              "      <td>1.757485e-10</td>\n",
              "      <td>7.037907e-11</td>\n",
              "      <td>3.538867e-11</td>\n",
              "      <td>-0.001921</td>\n",
              "      <td>-0.001921</td>\n",
              "      <td>1.0</td>\n",
              "      <td>1.0</td>\n",
              "      <td>0.2</td>\n",
              "    </tr>\n",
              "  </tbody>\n",
              "</table>\n",
              "</div>\n",
              "      <button class=\"colab-df-convert\" onclick=\"convertToInteractive('df-fe36506c-e4fd-4953-8715-becad330cd72')\"\n",
              "              title=\"Convert this dataframe to an interactive table.\"\n",
              "              style=\"display:none;\">\n",
              "        \n",
              "  <svg xmlns=\"http://www.w3.org/2000/svg\" height=\"24px\"viewBox=\"0 0 24 24\"\n",
              "       width=\"24px\">\n",
              "    <path d=\"M0 0h24v24H0V0z\" fill=\"none\"/>\n",
              "    <path d=\"M18.56 5.44l.94 2.06.94-2.06 2.06-.94-2.06-.94-.94-2.06-.94 2.06-2.06.94zm-11 1L8.5 8.5l.94-2.06 2.06-.94-2.06-.94L8.5 2.5l-.94 2.06-2.06.94zm10 10l.94 2.06.94-2.06 2.06-.94-2.06-.94-.94-2.06-.94 2.06-2.06.94z\"/><path d=\"M17.41 7.96l-1.37-1.37c-.4-.4-.92-.59-1.43-.59-.52 0-1.04.2-1.43.59L10.3 9.45l-7.72 7.72c-.78.78-.78 2.05 0 2.83L4 21.41c.39.39.9.59 1.41.59.51 0 1.02-.2 1.41-.59l7.78-7.78 2.81-2.81c.8-.78.8-2.07 0-2.86zM5.41 20L4 18.59l7.72-7.72 1.47 1.35L5.41 20z\"/>\n",
              "  </svg>\n",
              "      </button>\n",
              "      \n",
              "  <style>\n",
              "    .colab-df-container {\n",
              "      display:flex;\n",
              "      flex-wrap:wrap;\n",
              "      gap: 12px;\n",
              "    }\n",
              "\n",
              "    .colab-df-convert {\n",
              "      background-color: #E8F0FE;\n",
              "      border: none;\n",
              "      border-radius: 50%;\n",
              "      cursor: pointer;\n",
              "      display: none;\n",
              "      fill: #1967D2;\n",
              "      height: 32px;\n",
              "      padding: 0 0 0 0;\n",
              "      width: 32px;\n",
              "    }\n",
              "\n",
              "    .colab-df-convert:hover {\n",
              "      background-color: #E2EBFA;\n",
              "      box-shadow: 0px 1px 2px rgba(60, 64, 67, 0.3), 0px 1px 3px 1px rgba(60, 64, 67, 0.15);\n",
              "      fill: #174EA6;\n",
              "    }\n",
              "\n",
              "    [theme=dark] .colab-df-convert {\n",
              "      background-color: #3B4455;\n",
              "      fill: #D2E3FC;\n",
              "    }\n",
              "\n",
              "    [theme=dark] .colab-df-convert:hover {\n",
              "      background-color: #434B5C;\n",
              "      box-shadow: 0px 1px 3px 1px rgba(0, 0, 0, 0.15);\n",
              "      filter: drop-shadow(0px 1px 2px rgba(0, 0, 0, 0.3));\n",
              "      fill: #FFFFFF;\n",
              "    }\n",
              "  </style>\n",
              "\n",
              "      <script>\n",
              "        const buttonEl =\n",
              "          document.querySelector('#df-fe36506c-e4fd-4953-8715-becad330cd72 button.colab-df-convert');\n",
              "        buttonEl.style.display =\n",
              "          google.colab.kernel.accessAllowed ? 'block' : 'none';\n",
              "\n",
              "        async function convertToInteractive(key) {\n",
              "          const element = document.querySelector('#df-fe36506c-e4fd-4953-8715-becad330cd72');\n",
              "          const dataTable =\n",
              "            await google.colab.kernel.invokeFunction('convertToInteractive',\n",
              "                                                     [key], {});\n",
              "          if (!dataTable) return;\n",
              "\n",
              "          const docLinkHtml = 'Like what you see? Visit the ' +\n",
              "            '<a target=\"_blank\" href=https://colab.research.google.com/notebooks/data_table.ipynb>data table notebook</a>'\n",
              "            + ' to learn more about interactive tables.';\n",
              "          element.innerHTML = '';\n",
              "          dataTable['output_type'] = 'display_data';\n",
              "          await google.colab.output.renderOutput(dataTable, element);\n",
              "          const docLink = document.createElement('div');\n",
              "          docLink.innerHTML = docLinkHtml;\n",
              "          element.appendChild(docLink);\n",
              "        }\n",
              "      </script>\n",
              "    </div>\n",
              "  </div>\n",
              "  "
            ]
          },
          "metadata": {},
          "execution_count": 32
        }
      ]
    },
    {
      "cell_type": "markdown",
      "source": [
        "## Plots of simulated data"
      ],
      "metadata": {
        "id": "8fHIw89ykHe3"
      }
    },
    {
      "cell_type": "code",
      "source": [
        "fig, (axh, axx, axS) = plt.subplots(3, sharex=True)\n",
        "fig.suptitle('Simulated data')\n",
        "axh.plot(mvmt_table[\"h\"], label=\"hand\")\n",
        "axx.plot(mvmt_table[\"xr\"], label=\"recalibration\")\n",
        "axx.plot(mvmt_table[\"xs\"], label=\"strategy\")\n",
        "axS.plot(mvmt_table[\"SP\"], label=\"preparation\")\n",
        "axS.plot(mvmt_table[\"SG\"], label=\"generalization\")\n",
        "axS.plot(mvmt_table[\"SF\"], label=\"feedback\")\n",
        "fig.legend()"
      ],
      "metadata": {
        "id": "JdIxjCrMu38R",
        "colab": {
          "base_uri": "https://localhost:8080/",
          "height": 816
        },
        "outputId": "df1cf058-4ebf-467a-9420-14a49343446f"
      },
      "execution_count": 33,
      "outputs": [
        {
          "output_type": "execute_result",
          "data": {
            "text/plain": [
              "<matplotlib.legend.Legend at 0x7f1a4be2c0d0>"
            ]
          },
          "metadata": {},
          "execution_count": 33
        },
        {
          "output_type": "display_data",
          "data": {
            "text/plain": [
              "<Figure size 864x864 with 3 Axes>"
            ],
            "image/png": "[encoded data removed]"
          },
          "metadata": {
            "needs_background": "light"
          }
        }
      ]
    },
    {
      "cell_type": "markdown",
      "source": [
        "# Show the adaptation and skill learning for simulated data\n",
        "\n",
        "The grant describes three measures of adaptation and three measures of skill.\n",
        "\n"
      ],
      "metadata": {
        "id": "5inAnR-EMYB-"
      }
    },
    {
      "cell_type": "markdown",
      "source": [
        "## Adaptation measures\n",
        "\n",
        "The adaptation measures are: *learning rate*, the average movement direction in the first 40 rotation movements; *asymptote*, the average movement direction in the last 40 rotation movements; *aftereffect*, the average movement direction in the first 40 washout trials."
      ],
      "metadata": {
        "id": "cb6UhGgVVw-6"
      }
    },
    {
      "cell_type": "markdown",
      "source": [
        "### Code for defining adaptaton measures"
      ],
      "metadata": {
        "id": "EgW80nWlRevO"
      }
    },
    {
      "cell_type": "code",
      "source": [
        "def measure_adaptation(mvmt_table):\n",
        "  rotation_trials = mvmt_table[mvmt_table[\"block\"] == 'rotation']\n",
        "  washout_trials = mvmt_table[mvmt_table[\"block\"] == 'washout']\n",
        "  learning_rate_trials = rotation_trials.iloc[:40, :]\n",
        "  asymptote_trials = rotation_trials.iloc[-40:, :]\n",
        "  aftereffect_trials = washout_trials.iloc[:40, :]\n",
        "\n",
        "  lr = learning_rate_trials[\"h\"].mean()\n",
        "  asmp = asymptote_trials[\"h\"].mean()\n",
        "  after = aftereffect_trials[\"h\"].mean()\n",
        "  return lr, asmp, after\n",
        "\n"
      ],
      "metadata": {
        "id": "y-hRgM7qRpxU"
      },
      "execution_count": 34,
      "outputs": []
    },
    {
      "cell_type": "code",
      "source": [
        "measure_adaptation(mvmt_table)"
      ],
      "metadata": {
        "colab": {
          "base_uri": "https://localhost:8080/"
        },
        "id": "sK2bgfUhqN7g",
        "outputId": "2dad6bf4-2438-4fd4-ffe4-170a3e207fc5"
      },
      "execution_count": 35,
      "outputs": [
        {
          "output_type": "execute_result",
          "data": {
            "text/plain": [
              "(-12.619678506001327, -17.36493090214638, -2.9671039847673115)"
            ]
          },
          "metadata": {},
          "execution_count": 35
        }
      ]
    },
    {
      "cell_type": "markdown",
      "source": [
        "## Skill measures\n",
        "\n",
        "All skill measures are measured in 4 epochs and 3 measures of skill. The epochs are: baseline, early (first 400 rotation trials), middle (middle 400), and late (last 400). \n",
        "\n",
        "The measures of skill are *preparation*, *generalization*, and *feedback*. *Preparation* is measured of the slope of movement direction against reaction time. *Generalization* is measured as the width of a Gaussian fit to movements in direction around the target direction. *Feedback* is measured as the percentage of the full correction to target made during the movement. \n"
      ],
      "metadata": {
        "id": "Jlj_dpPIVqxT"
      }
    },
    {
      "cell_type": "markdown",
      "source": [
        "### Code for getting the probe trials"
      ],
      "metadata": {
        "id": "divx5w5Gkaow"
      }
    },
    {
      "cell_type": "code",
      "source": [
        "from pandas.core.frame import DataFrame\n",
        "skill_epochs = pd.DataFrame(\n",
        "    {'name': [\"baseline\", \"early\", \"middle\", \"late\"],\n",
        "     'block': [\"baseline\", \"rotation\", \"rotation\", \"rotation\"],\n",
        "     \"mvmt_nums\": [range(160), range(400), range(400,800), range(800,1200)], \n",
        "    }\n",
        ")\n",
        "skill_epochs.set_index('name')\n",
        "\n",
        "def get_probe_trials_by_epoch(mvmt_table: DataFrame, epoch, probe_type):\n",
        "  block_table = mvmt_table[mvmt_table[\"block\"] == epoch[\"block\"]]\n",
        "  epoch_table = block_table.iloc[epoch[\"mvmt_nums\"],:]\n",
        "  probe_table = epoch_table.loc[epoch_table[\"probe_type\"] == probe_type]\n",
        "  return probe_table"
      ],
      "metadata": {
        "id": "A-EGVG69IvgP"
      },
      "execution_count": 36,
      "outputs": []
    },
    {
      "cell_type": "code",
      "source": [
        "get_probe_trials_by_epoch(mvmt_table, skill_epochs.iloc[0,:], \"preparation\").head()"
      ],
      "metadata": {
        "colab": {
          "base_uri": "https://localhost:8080/",
          "height": 206
        },
        "id": "CrOmNPedlARk",
        "outputId": "7354815b-7682-4d06-e296-14d73a557280"
      },
      "execution_count": 37,
      "outputs": [
        {
          "output_type": "execute_result",
          "data": {
            "text/plain": [
              "        block  feedback  rotation   probe_type probe_condition        xs  \\\n",
              "307  baseline      True         0  preparation             400 -0.002058   \n",
              "308  baseline      True         0  preparation             300  0.000025   \n",
              "313  baseline      True         0  preparation             200 -0.001530   \n",
              "323  baseline      True         0  preparation             100  0.000147   \n",
              "335  baseline      True         0  preparation             300  0.002099   \n",
              "\n",
              "           xr            SP            SG            SF         y         h  \\\n",
              "307  0.001260  4.614793e-08  1.846500e-08  9.247074e-09 -0.000480 -0.000480   \n",
              "308  0.002462  4.615255e-08  1.846685e-08  9.248002e-09  0.001775  0.001775   \n",
              "313  0.001717  4.683659e-08  1.874051e-08  9.384926e-09  0.001261  0.001261   \n",
              "323  0.000486  4.861448e-08  1.945179e-08  9.740875e-09  0.000537  0.000537   \n",
              "335  0.000616  4.895466e-08  1.958801e-08  9.809374e-09  0.003165  0.003165   \n",
              "\n",
              "          phi  rho  tau  \n",
              "307  0.771429  1.0  0.2  \n",
              "308  0.542857  1.0  0.2  \n",
              "313  0.314286  1.0  0.2  \n",
              "323  0.200000  1.0  0.2  \n",
              "335  0.542857  1.0  0.2  "
            ],
            "text/html": [
              "\n",
              "  <div id=\"df-e01284cd-29ba-428c-95b4-e730902a91a0\">\n",
              "    <div class=\"colab-df-container\">\n",
              "      <div>\n",
              "<style scoped>\n",
              "    .dataframe tbody tr th:only-of-type {\n",
              "        vertical-align: middle;\n",
              "    }\n",
              "\n",
              "    .dataframe tbody tr th {\n",
              "        vertical-align: top;\n",
              "    }\n",
              "\n",
              "    .dataframe thead th {\n",
              "        text-align: right;\n",
              "    }\n",
              "</style>\n",
              "<table border=\"1\" class=\"dataframe\">\n",
              "  <thead>\n",
              "    <tr style=\"text-align: right;\">\n",
              "      <th></th>\n",
              "      <th>block</th>\n",
              "      <th>feedback</th>\n",
              "      <th>rotation</th>\n",
              "      <th>probe_type</th>\n",
              "      <th>probe_condition</th>\n",
              "      <th>xs</th>\n",
              "      <th>xr</th>\n",
              "      <th>SP</th>\n",
              "      <th>SG</th>\n",
              "      <th>SF</th>\n",
              "      <th>y</th>\n",
              "      <th>h</th>\n",
              "      <th>phi</th>\n",
              "      <th>rho</th>\n",
              "      <th>tau</th>\n",
              "    </tr>\n",
              "  </thead>\n",
              "  <tbody>\n",
              "    <tr>\n",
              "      <th>307</th>\n",
              "      <td>baseline</td>\n",
              "      <td>True</td>\n",
              "      <td>0</td>\n",
              "      <td>preparation</td>\n",
              "      <td>400</td>\n",
              "      <td>-0.002058</td>\n",
              "      <td>0.001260</td>\n",
              "      <td>4.614793e-08</td>\n",
              "      <td>1.846500e-08</td>\n",
              "      <td>9.247074e-09</td>\n",
              "      <td>-0.000480</td>\n",
              "      <td>-0.000480</td>\n",
              "      <td>0.771429</td>\n",
              "      <td>1.0</td>\n",
              "      <td>0.2</td>\n",
              "    </tr>\n",
              "    <tr>\n",
              "      <th>308</th>\n",
              "      <td>baseline</td>\n",
              "      <td>True</td>\n",
              "      <td>0</td>\n",
              "      <td>preparation</td>\n",
              "      <td>300</td>\n",
              "      <td>0.000025</td>\n",
              "      <td>0.002462</td>\n",
              "      <td>4.615255e-08</td>\n",
              "      <td>1.846685e-08</td>\n",
              "      <td>9.248002e-09</td>\n",
              "      <td>0.001775</td>\n",
              "      <td>0.001775</td>\n",
              "      <td>0.542857</td>\n",
              "      <td>1.0</td>\n",
              "      <td>0.2</td>\n",
              "    </tr>\n",
              "    <tr>\n",
              "      <th>313</th>\n",
              "      <td>baseline</td>\n",
              "      <td>True</td>\n",
              "      <td>0</td>\n",
              "      <td>preparation</td>\n",
              "      <td>200</td>\n",
              "      <td>-0.001530</td>\n",
              "      <td>0.001717</td>\n",
              "      <td>4.683659e-08</td>\n",
              "      <td>1.874051e-08</td>\n",
              "      <td>9.384926e-09</td>\n",
              "      <td>0.001261</td>\n",
              "      <td>0.001261</td>\n",
              "      <td>0.314286</td>\n",
              "      <td>1.0</td>\n",
              "      <td>0.2</td>\n",
              "    </tr>\n",
              "    <tr>\n",
              "      <th>323</th>\n",
              "      <td>baseline</td>\n",
              "      <td>True</td>\n",
              "      <td>0</td>\n",
              "      <td>preparation</td>\n",
              "      <td>100</td>\n",
              "      <td>0.000147</td>\n",
              "      <td>0.000486</td>\n",
              "      <td>4.861448e-08</td>\n",
              "      <td>1.945179e-08</td>\n",
              "      <td>9.740875e-09</td>\n",
              "      <td>0.000537</td>\n",
              "      <td>0.000537</td>\n",
              "      <td>0.200000</td>\n",
              "      <td>1.0</td>\n",
              "      <td>0.2</td>\n",
              "    </tr>\n",
              "    <tr>\n",
              "      <th>335</th>\n",
              "      <td>baseline</td>\n",
              "      <td>True</td>\n",
              "      <td>0</td>\n",
              "      <td>preparation</td>\n",
              "      <td>300</td>\n",
              "      <td>0.002099</td>\n",
              "      <td>0.000616</td>\n",
              "      <td>4.895466e-08</td>\n",
              "      <td>1.958801e-08</td>\n",
              "      <td>9.809374e-09</td>\n",
              "      <td>0.003165</td>\n",
              "      <td>0.003165</td>\n",
              "      <td>0.542857</td>\n",
              "      <td>1.0</td>\n",
              "      <td>0.2</td>\n",
              "    </tr>\n",
              "  </tbody>\n",
              "</table>\n",
              "</div>\n",
              "      <button class=\"colab-df-convert\" onclick=\"convertToInteractive('df-e01284cd-29ba-428c-95b4-e730902a91a0')\"\n",
              "              title=\"Convert this dataframe to an interactive table.\"\n",
              "              style=\"display:none;\">\n",
              "        \n",
              "  <svg xmlns=\"http://www.w3.org/2000/svg\" height=\"24px\"viewBox=\"0 0 24 24\"\n",
              "       width=\"24px\">\n",
              "    <path d=\"M0 0h24v24H0V0z\" fill=\"none\"/>\n",
              "    <path d=\"M18.56 5.44l.94 2.06.94-2.06 2.06-.94-2.06-.94-.94-2.06-.94 2.06-2.06.94zm-11 1L8.5 8.5l.94-2.06 2.06-.94-2.06-.94L8.5 2.5l-.94 2.06-2.06.94zm10 10l.94 2.06.94-2.06 2.06-.94-2.06-.94-.94-2.06-.94 2.06-2.06.94z\"/><path d=\"M17.41 7.96l-1.37-1.37c-.4-.4-.92-.59-1.43-.59-.52 0-1.04.2-1.43.59L10.3 9.45l-7.72 7.72c-.78.78-.78 2.05 0 2.83L4 21.41c.39.39.9.59 1.41.59.51 0 1.02-.2 1.41-.59l7.78-7.78 2.81-2.81c.8-.78.8-2.07 0-2.86zM5.41 20L4 18.59l7.72-7.72 1.47 1.35L5.41 20z\"/>\n",
              "  </svg>\n",
              "      </button>\n",
              "      \n",
              "  <style>\n",
              "    .colab-df-container {\n",
              "      display:flex;\n",
              "      flex-wrap:wrap;\n",
              "      gap: 12px;\n",
              "    }\n",
              "\n",
              "    .colab-df-convert {\n",
              "      background-color: #E8F0FE;\n",
              "      border: none;\n",
              "      border-radius: 50%;\n",
              "      cursor: pointer;\n",
              "      display: none;\n",
              "      fill: #1967D2;\n",
              "      height: 32px;\n",
              "      padding: 0 0 0 0;\n",
              "      width: 32px;\n",
              "    }\n",
              "\n",
              "    .colab-df-convert:hover {\n",
              "      background-color: #E2EBFA;\n",
              "      box-shadow: 0px 1px 2px rgba(60, 64, 67, 0.3), 0px 1px 3px 1px rgba(60, 64, 67, 0.15);\n",
              "      fill: #174EA6;\n",
              "    }\n",
              "\n",
              "    [theme=dark] .colab-df-convert {\n",
              "      background-color: #3B4455;\n",
              "      fill: #D2E3FC;\n",
              "    }\n",
              "\n",
              "    [theme=dark] .colab-df-convert:hover {\n",
              "      background-color: #434B5C;\n",
              "      box-shadow: 0px 1px 3px 1px rgba(0, 0, 0, 0.15);\n",
              "      filter: drop-shadow(0px 1px 2px rgba(0, 0, 0, 0.3));\n",
              "      fill: #FFFFFF;\n",
              "    }\n",
              "  </style>\n",
              "\n",
              "      <script>\n",
              "        const buttonEl =\n",
              "          document.querySelector('#df-e01284cd-29ba-428c-95b4-e730902a91a0 button.colab-df-convert');\n",
              "        buttonEl.style.display =\n",
              "          google.colab.kernel.accessAllowed ? 'block' : 'none';\n",
              "\n",
              "        async function convertToInteractive(key) {\n",
              "          const element = document.querySelector('#df-e01284cd-29ba-428c-95b4-e730902a91a0');\n",
              "          const dataTable =\n",
              "            await google.colab.kernel.invokeFunction('convertToInteractive',\n",
              "                                                     [key], {});\n",
              "          if (!dataTable) return;\n",
              "\n",
              "          const docLinkHtml = 'Like what you see? Visit the ' +\n",
              "            '<a target=\"_blank\" href=https://colab.research.google.com/notebooks/data_table.ipynb>data table notebook</a>'\n",
              "            + ' to learn more about interactive tables.';\n",
              "          element.innerHTML = '';\n",
              "          dataTable['output_type'] = 'display_data';\n",
              "          await google.colab.output.renderOutput(dataTable, element);\n",
              "          const docLink = document.createElement('div');\n",
              "          docLink.innerHTML = docLinkHtml;\n",
              "          element.appendChild(docLink);\n",
              "        }\n",
              "      </script>\n",
              "    </div>\n",
              "  </div>\n",
              "  "
            ]
          },
          "metadata": {},
          "execution_count": 37
        }
      ]
    },
    {
      "cell_type": "markdown",
      "source": [
        "### Preparation\n",
        "*Preparation* is measured as the slope of the relationship between preparation time and error."
      ],
      "metadata": {
        "id": "jMCwMsuJIflL"
      }
    },
    {
      "cell_type": "code",
      "source": [
        "linear_regression = LinearRegression()\n",
        "def get_preparation_measure(probes):\n",
        "  condition = probes[\"probe_condition\"].to_numpy().reshape(-1,1)\n",
        "  h = probes[\"h\"].to_numpy().reshape(-1,1)\n",
        "  reg = linear_regression.fit(condition, h)\n",
        "  return reg.coef_[0][0]"
      ],
      "metadata": {
        "id": "-weTFpAIpVec"
      },
      "execution_count": 38,
      "outputs": []
    },
    {
      "cell_type": "code",
      "source": [
        "fig, ax = plt.subplots(1,4, sharey=True, figsize=(12,6))\n",
        "fig.suptitle('Preparation probes by epoch')\n",
        "for i, epoch in skill_epochs.iterrows():\n",
        "  probes = get_probe_trials_by_epoch(mvmt_table, epoch, 'preparation')\n",
        "  measure = get_preparation_measure(probes)\n",
        "  ax[i].plot(probes[\"probe_condition\"], probes[\"h\"], 'bo')\n",
        "  ax[i].set_xlabel('RT (ms)')\n",
        "  ax[i].set_title(f'{epoch[\"name\"]}: {measure:.2}')\n",
        "\n",
        "ax[0].set_ylabel('Hand direction')\n",
        "\n",
        "\n"
      ],
      "metadata": {
        "id": "CkrfOpFxWGQd",
        "colab": {
          "base_uri": "https://localhost:8080/",
          "height": 448
        },
        "outputId": "9361ad58-2a12-457a-ccde-595196b6d07b"
      },
      "execution_count": 40,
      "outputs": [
        {
          "output_type": "execute_result",
          "data": {
            "text/plain": [
              "Text(0, 0.5, 'Hand direction')"
            ]
          },
          "metadata": {},
          "execution_count": 40
        },
        {
          "output_type": "display_data",
          "data": {
            "text/plain": [
              "<Figure size 864x432 with 4 Axes>"
            ],
            "image/png": "[encoded data removed]"
          },
          "metadata": {
            "needs_background": "light"
          }
        }
      ]
    },
    {
      "cell_type": "markdown",
      "source": [
        "### Generalization\n",
        "\n",
        "Generalization is measures as the width of a gaussian fit"
      ],
      "metadata": {
        "id": "76WoKrYbwayB"
      }
    },
    {
      "cell_type": "code",
      "source": [
        "def gaussian(x, *p):\n",
        "  A, mu, sigma = p\n",
        "  return A*np.exp(-(x-mu)**2/(2.*sigma**2))\n",
        "\n",
        "def get_generalization_measure(probes, non_probes):\n",
        "  non_probes[\"probe_condition\"] = 0\n",
        "  mvmts = pd.concat([probes, non_probes])\n",
        "\n",
        "  condition = mvmts[\"probe_condition\"].to_numpy()\n",
        "  y = mvmts[\"y\"].to_numpy()\n",
        "  max_y = [y1 for y1 in y if abs(y1) == np.max(abs(y))][0]\n",
        "\n",
        "  p0 = (max_y, 0, 10)\n",
        "  try:\n",
        "    coeff, var_matrix = curve_fit(gaussian, condition, y, p0=p0)\n",
        "  except:\n",
        "    coeff = [np.nan,np.nan,np.nan]\n",
        "  return coeff[2]"
      ],
      "metadata": {
        "id": "C8Molkk7wtl5"
      },
      "execution_count": 41,
      "outputs": []
    },
    {
      "cell_type": "code",
      "source": [
        "probes = get_probe_trials_by_epoch(mvmt_table, skill_epochs.iloc[1,:], 'generalization')\n",
        "non_probes = get_probe_trials_by_epoch(mvmt_table, skill_epochs.iloc[1,:], '')\n",
        "g = get_generalization_measure(probes, non_probes)\n",
        "print(g)"
      ],
      "metadata": {
        "colab": {
          "base_uri": "https://localhost:8080/"
        },
        "id": "K84JuHdKynWU",
        "outputId": "e36f57e2-8fba-4773-f8ea-a062f3c52e6d"
      },
      "execution_count": 42,
      "outputs": [
        {
          "output_type": "stream",
          "name": "stdout",
          "text": [
            "18.529942675095473\n"
          ]
        }
      ]
    },
    {
      "cell_type": "code",
      "source": [
        "fig, ax = plt.subplots(1,4, sharey=True, figsize=(12,6))\n",
        "fig.suptitle('Generalization probes by epoch')\n",
        "for i, epoch in skill_epochs.iterrows():\n",
        "  probes = get_probe_trials_by_epoch(mvmt_table, epoch, 'generalization')\n",
        "  non_probes = get_probe_trials_by_epoch(mvmt_table, epoch, '')\n",
        "  non_probes[\"probe_condition\"] = 0\n",
        "  measure = get_generalization_measure(probes, non_probes)\n",
        "  ax[i].plot(probes[\"probe_condition\"], probes[\"y\"], 'bo')\n",
        "  ax[i].plot(non_probes[\"probe_condition\"], non_probes[\"y\"], 'ro')\n",
        "  ax[i].set_xlabel('Target')\n",
        "  ax[i].set_title(f'{epoch[\"name\"]}: {measure:.1f}')\n",
        "\n",
        "ax[0].set_ylabel('Hand direction')\n",
        "\n",
        "\n"
      ],
      "metadata": {
        "colab": {
          "base_uri": "https://localhost:8080/",
          "height": 448
        },
        "outputId": "9cd2f6f3-4bc7-49cd-a1ed-fc0bdc77a9d9",
        "id": "PrbDvegM0upY"
      },
      "execution_count": 43,
      "outputs": [
        {
          "output_type": "execute_result",
          "data": {
            "text/plain": [
              "Text(0, 0.5, 'Hand direction')"
            ]
          },
          "metadata": {},
          "execution_count": 43
        },
        {
          "output_type": "display_data",
          "data": {
            "text/plain": [
              "<Figure size 864x432 with 4 Axes>"
            ],
            "image/png": "[encoded data removed]"
          },
          "metadata": {
            "needs_background": "light"
          }
        }
      ]
    },
    {
      "cell_type": "markdown",
      "source": [
        "### Feedback\n",
        "\n",
        "Feedback is the percentage of the difference between movements to the original target and movements to the generalization target."
      ],
      "metadata": {
        "id": "k6wpuoUT5PNH"
      }
    },
    {
      "cell_type": "code",
      "source": [
        "def get_feedback_measure(fb_probes, gnl_probes, non_probes):\n",
        "  probe_condtions = fb_probes.probe_condition.unique()\n",
        "  non_probe_mean = np.mean(non_probes[\"h\"])\n",
        "  compensation_list = list()\n",
        "  for condition in probe_condtions:\n",
        "    fb = fb_probes.loc[fb_probes[\"probe_condition\"]==condition,\"h\"]\n",
        "    fb_mean = np.mean(fb)\n",
        "    gnl = gnl_probes.loc[gnl_probes[\"probe_condition\"]==condition,\"h\"] + gnl_probes.loc[gnl_probes[\"probe_condition\"]==condition,\"probe_condition\"]\n",
        "    gnl_mean = np.mean(gnl)\n",
        "    compensation = (fb_mean - non_probe_mean) / (gnl_mean - non_probe_mean)\n",
        "    compensation_list.append(compensation)\n",
        "  \n",
        "  return np.mean(compensation)\n"
      ],
      "metadata": {
        "id": "EE7mOig36Qi4"
      },
      "execution_count": 44,
      "outputs": []
    },
    {
      "cell_type": "code",
      "source": [
        "fig, ax = plt.subplots(1,4, sharey=True, figsize=(12,6))\n",
        "fig.suptitle('Feedback probes by epoch')\n",
        "for i, epoch in skill_epochs.iterrows():\n",
        "  fb_probes = get_probe_trials_by_epoch(mvmt_table, epoch, 'feedback')\n",
        "  gnl_probes = get_probe_trials_by_epoch(mvmt_table, epoch, 'generalization')\n",
        "  non_probes = get_probe_trials_by_epoch(mvmt_table, epoch, '')\n",
        "  measure = get_feedback_measure(fb_probes, gnl_probes, non_probes)\n",
        "\n",
        "  non_probes[\"probe_condition\"] = 0\n",
        "\n",
        "  ax[i].plot(non_probes[\"probe_condition\"], non_probes[\"h\"], 'ro')\n",
        "  ax[i].plot(gnl_probes[\"probe_condition\"], gnl_probes[\"h\"]+gnl_probes[\"probe_condition\"], 'go')\n",
        "  ax[i].plot(fb_probes[\"probe_condition\"], fb_probes[\"h\"], 'bo')\n",
        "  ax[i].set_xlabel('Target')\n",
        "  ax[i].set_title(f'{epoch[\"name\"]}: {measure:.1f}')\n",
        "\n",
        "ax[0].set_ylabel('Hand direction')"
      ],
      "metadata": {
        "colab": {
          "base_uri": "https://localhost:8080/",
          "height": 448
        },
        "id": "XAX6_fRg-MTy",
        "outputId": "4e1030fa-4c54-48b5-bc70-c2a5a8b7bdf5"
      },
      "execution_count": 45,
      "outputs": [
        {
          "output_type": "execute_result",
          "data": {
            "text/plain": [
              "Text(0, 0.5, 'Hand direction')"
            ]
          },
          "metadata": {},
          "execution_count": 45
        },
        {
          "output_type": "display_data",
          "data": {
            "text/plain": [
              "<Figure size 864x432 with 4 Axes>"
            ],
            "image/png": "[encoded data removed]"
          },
          "metadata": {
            "needs_background": "light"
          }
        }
      ]
    },
    {
      "cell_type": "markdown",
      "source": [
        "# Experiment 1\n",
        "\n",
        "Experiment 1 has two groups: low RT (150 ms) and high RT (350 ms)."
      ],
      "metadata": {
        "id": "hhkCt10slnQ5"
      }
    },
    {
      "cell_type": "code",
      "source": [
        "groups = pd.DataFrame(\n",
        "    {'name': ['low RT', 'high RT'],\n",
        "     'RT': [150, 350]}\n",
        ")\n",
        "\n",
        "exp1_mvmt_tables = list()\n",
        "for group in groups:\n",
        "  group_mvmt_table = mvmt_table.copy()\n",
        "  selected_blocks = group_mvmt_table['block'].isin(['baseline', 'rotation', 'washout'])\n",
        "  selected_movements = group_mvmt_table[\"probe_type\"] == ''\n",
        "  group_mvmt_table[selected_blocks & selected_movements, \"\"]\n",
        "  \n",
        "\n",
        "\n"
      ],
      "metadata": {
        "id": "3lG4pb7294i7"
      },
      "execution_count": null,
      "outputs": []
    },
    {
      "cell_type": "markdown",
      "source": [
        "### Simulating experimental conditions"
      ],
      "metadata": {
        "id": "Zaj1rN6clsmV"
      }
    }
  ]
}