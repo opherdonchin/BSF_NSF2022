{
  "nbformat": 4,
  "nbformat_minor": 0,
  "metadata": {
    "colab": {
      "name": "Copy of BSF_NSF_simulation.ipynb",
      "provenance": [],
      "toc_visible": true,
      "collapsed_sections": [
        "TsIenPqVN7IP",
        "0JAO8MJpOEbn",
        "as1L6518Om9J"
      ],
      "authorship_tag": "ABX9TyOYkzRBKRUCOgXnosf9p2Nk",
      "include_colab_link": true
    },
    "kernelspec": {
      "name": "python3",
      "display_name": "Python 3"
    },
    "language_info": {
      "name": "python"
    }
  },
  "cells": [
    {
      "cell_type": "markdown",
      "metadata": {
        "id": "view-in-github",
        "colab_type": "text"
      },
      "source": [
        "<a href=\"https://colab.research.google.com/github/opherdonchin/BSF_NSF2022/blob/columns/BSF_NSF_simulation.ipynb\" target=\"_parent\"><img src=\"https://colab.research.google.com/assets/colab-badge.svg\" alt=\"Open In Colab\"/></a>"
      ]
    },
    {
      "cell_type": "markdown",
      "source": [
        "# Questions for the discussion tonight\n",
        "\n",
        "\n",
        "\n",
        "1.   Which signal drives skill learning?\n",
        "\n",
        "Recalibration level is $x_r$ and strategic level is $x_s$. Total adaptation is $x = x_r + x_s$. Each responds to an error signal, $e_r$ and $e_s$, learning is\n",
        "\n",
        "$\n",
        "\\begin{align}\n",
        "x_{r, n+1} = A x_r + B e_r \\\\\n",
        "x_{s, n+1} = A x_s + B e_s\n",
        "\\end{align}\n",
        "$\n",
        "\n",
        "Now, which of these signals drives skill learning? Is it $x_r$ and $x_s$, or $e_r$ and $e_s$, or $B_r e_r$ and $B_s e_s$?\n",
        "\n",
        "2.   what sort of learning happens in the different probe trials. In reduced RT we have a theory but I'm not sure what the \"state space\" version of a generalization or a target jump trial would be.\n",
        "\n",
        "3.   Let's say a short reaction time suppresses strategic adaptation. Do we still get the effects of strategic adaptation on skill? This is related to question  1: which skill actually changes skill.\n",
        "\n",
        "4.   Let's say delays suppress recalibration? How does this affect adaptation and how does it affect skill learning?\n",
        "\n",
        "\n"
      ],
      "metadata": {
        "id": "BSSJdnNyVyjT"
      }
    },
    {
      "cell_type": "code",
      "source": [
        "!pip install ypstruct"
      ],
      "metadata": {
        "colab": {
          "base_uri": "https://localhost:8080/"
        },
        "id": "XQVb5uBUDOyL",
        "outputId": "72d010fe-9296-4386-b5a1-3702b9cec279"
      },
      "execution_count": 106,
      "outputs": [
        {
          "output_type": "stream",
          "name": "stdout",
          "text": [
            "Requirement already satisfied: ypstruct in /usr/local/lib/python3.7/dist-packages (0.0.2)\n"
          ]
        }
      ]
    },
    {
      "cell_type": "code",
      "source": [
        "import numpy as np\n",
        "import math\n",
        "import random\n",
        "import pandas as pd\n",
        "from matplotlib import pyplot as plt\n",
        "from ypstruct import *\n",
        "from scipy.special import expit\n",
        "from sklearn.linear_model import LinearRegression\n",
        "from scipy.optimize import curve_fit\n"
      ],
      "metadata": {
        "id": "QwMR9UFY8-sF"
      },
      "execution_count": 107,
      "outputs": []
    },
    {
      "cell_type": "code",
      "source": [
        "plt.rcParams[\"figure.figsize\"]\n",
        "plt.rcParams[\"figure.figsize\"] = (12,12)"
      ],
      "metadata": {
        "id": "EzLOEZvqvO7H"
      },
      "execution_count": 108,
      "outputs": []
    },
    {
      "cell_type": "markdown",
      "source": [
        "# Ideas copied from the Jordan and Donchin grant\n"
      ],
      "metadata": {
        "id": "M1SOSF4Lyp3w"
      }
    },
    {
      "cell_type": "markdown",
      "source": [
        "### Learning process and measures of skill\n",
        "\n",
        "The idea of Donchin and Jordan is to measure the effect of different motor learning processes on the development of motor skill. They consider three motor learning processes: **strategic**, **recalibration**, and **reinforcement learning**.\n",
        "\n",
        "**Recalibration** can be prevented by cursor delay. It asymptotes at a relative low value and saturates in rsponse to relatively small errors. **Strategic** processes can be prevented by limiting preparation time. **Reinforcement learning** can be controlled by controlling success rate. It is very slow. They propose manipulating each of these and see how skill learning is effected.\n",
        "\n",
        "Skill development is measured along three dimensions: *preparation*, *generalization*, and *feedback*. *Preparation* is measured by the slope of the preparation / accuracy tradeoff function. *Generalization* is measured by adaptation in movement to new directions. *Feedback* is measured by response to perturbations.\n",
        "\n",
        "**Recalibration** probably improves feedback processing and may improve motor preparation time. **Strategy** use increases *preparation* speed. It may also affect (increase?) generalization.**Reinforcement learning** may also contribute to *preparation* and *feedback* but less to generalization. \n",
        "\n"
      ],
      "metadata": {
        "id": "5q_TuK94ixNW"
      }
    },
    {
      "cell_type": "markdown",
      "source": [
        "# The structure of the task\n",
        "\n",
        "Movements are made to 6 targets, spaced 60° apart. Reaction time will be controlled. Success windows (both for movement onset accuracy and for movement direction accuracy) will be manipulated to control success rate. Base success rate will be 70%. \n",
        "\n",
        "4 blocks in the experiment\n",
        "\n",
        "- Familiarization, 300 movememnts, veridical feedback\n",
        "- Baseline, 150 movements, veridical feedback, skill measures\n",
        "  - I changed this to 160 so there would be 4 of each probe condition for each type of probe trial\n",
        "- Rotation, 1200 movememnts, 30° rotation, skill measures\n",
        "- Washout, 150 movements, no visual feedback, no strategy\n",
        "\n",
        "Baseline and rotation blocks will be 30% probe trials: 10% for each of *preparation*, *generalization*, and *feedback*. \n",
        "\n",
        "- *Preparation* probe trials have RT of 100 ms, 200 ms, 300 ms, or 400 ms (compared to 1,000 ms in non-probe trials). Adaptation with shorter preparation time is more skill.\n",
        "- *Generalization* probe trials have targets at ±10 or ±20. Greater generalization is more skill. \n",
        "- *Feedback* probe trials have target jump to ±10 or ±20 and we measure latency and accuracy of feedback corrections. Shorter latency and better accuracy mean more skill.\n",
        "\n"
      ],
      "metadata": {
        "id": "wI1rlYrsy5Vq"
      }
    },
    {
      "cell_type": "markdown",
      "source": [
        "## Code for task structure"
      ],
      "metadata": {
        "id": "EGG2l3W7M1Zm"
      }
    },
    {
      "cell_type": "code",
      "execution_count": 109,
      "metadata": {
        "id": "E3HBRBDeivR1"
      },
      "outputs": [],
      "source": [
        "blocks = [{'name': 'familiarization', 'num_mvmt': 300,  'feedback': True,  'rotation': 0,  'probe': False, 'vision': True},\n",
        "          {'name': 'baseline',        'num_mvmt': 160,  'feedback': True,  'rotation': 0,  'probe': True , 'vision': True},\n",
        "          {'name': 'rotation',        'num_mvmt': 1200, 'feedback': True,  'rotation': 30, 'probe': True , 'vision': True},\n",
        "          {'name': 'washout',         'num_mvmt': 150,  'feedback': False, 'rotation': 0,  'probe': False, 'vision': False},\n",
        "          ]\n",
        "num_blocks = len(blocks)\n",
        "\n",
        "probe_types = ['preparation', 'generalization', 'feedback']\n",
        "p_probe_per_type    = 0.1\n",
        "num_probe_types = len(probe_types)\n",
        "p_probe = num_probe_types*p_probe_per_type\n",
        "\n",
        "probe_conditions = [\n",
        "              [100, 200, 300, 400],\n",
        "              [-20, -10, 10, 20],\n",
        "              [-20, -10, 10, 20],\n",
        "]\n",
        "non_probe_condition = [600, 0, 0]\n",
        "probe_variables = ['rt', 'target', 'jump']\n",
        "num_conditions_per_probe = len(probe_conditions[0])\n",
        "\n",
        "mvmt_list = list()\n",
        "for block in blocks:\n",
        "  num_mvmt = block['num_mvmt']\n",
        "  probe_block = block['probe']\n",
        "  if probe_block:\n",
        "    num_probe_per_type = int(p_probe_per_type*num_mvmt)\n",
        "    num_prob_total = num_probe_types*num_probe_per_type\n",
        "    all_probe_mvmts = random.sample(range(num_mvmt), num_prob_total) # These are all the probe movements for all types\n",
        "    # Then we separate it into three sets, one for each type\n",
        "    probe_mvmts = [all_probe_mvmts[(i*num_probe_per_type):((i+1)*num_probe_per_type)] for i in range(num_probe_types)]\n",
        "\n",
        "    num_per_condition = int(num_probe_per_type / num_conditions_per_probe)\n",
        "    # This is supposed to generate a shuffling of the 4 probe conditions the appropriate number of times \n",
        "    probe_conditions_rand = list()\n",
        "    for condition_list in probe_conditions:\n",
        "      probe_conditions_rand.append(\n",
        "          [\n",
        "           condition for i in range(num_per_condition) for condition in random.sample(condition_list, len(condition_list))\n",
        "           ]\n",
        "           )\n",
        "\n",
        "  for mvmt_num in range(num_mvmt):\n",
        "    this_mvmt = dict()\n",
        "    this_mvmt['block'] = block['name']\n",
        "    this_mvmt['feedback'] = block['feedback']\n",
        "    this_mvmt['rotation'] = block['rotation']\n",
        "\n",
        "    this_mvmt['probe_type'] = ''\n",
        "    this_mvmt['rt'] = non_probe_condition[0]\n",
        "    this_mvmt['target'] = non_probe_condition[1]\n",
        "    this_mvmt['jump'] = non_probe_condition[2]\n",
        "    this_mvmt['vis'] = block['vision']\n",
        "    if probe_block:\n",
        "      # Get whether this is a probe trial by looking at all the enumerated probe trals\n",
        "      probe_type_n = [i for (i, probe_mvmt_list) in enumerate(probe_mvmts) if mvmt_num in probe_mvmt_list]\n",
        " \n",
        "      if probe_type_n:\n",
        "        probe_type_n = probe_type_n[0]\n",
        "        if mvmt_num in probe_mvmts[probe_type_n]:\n",
        "           probe_condition = [c for (i, c) in enumerate(probe_conditions_rand[probe_type_n]) if probe_mvmts[probe_type_n][i] == mvmt_num][0]\n",
        "        this_mvmt['probe_type'] = probe_types[probe_type_n]\n",
        "        this_mvmt[probe_variables[probe_type_n]] = probe_condition\n",
        "        this_mvmt['vis'] = False\n",
        "\n",
        "    mvmt_list.append(this_mvmt)  \n",
        "\n",
        "\n",
        "mvmt_table = pd.DataFrame(mvmt_list)\n",
        "\n",
        "    \n"
      ]
    },
    {
      "cell_type": "code",
      "source": [
        "mvmt_table.head()"
      ],
      "metadata": {
        "colab": {
          "base_uri": "https://localhost:8080/",
          "height": 206
        },
        "id": "JOrCHcqlB7pA",
        "outputId": "b1e7042d-92fc-42cf-ade7-37219b9d6ab5"
      },
      "execution_count": 110,
      "outputs": [
        {
          "output_type": "execute_result",
          "data": {
            "text/plain": [
              "             block  feedback  rotation probe_type   rt  target  jump   vis\n",
              "0  familiarization      True         0             600       0     0  True\n",
              "1  familiarization      True         0             600       0     0  True\n",
              "2  familiarization      True         0             600       0     0  True\n",
              "3  familiarization      True         0             600       0     0  True\n",
              "4  familiarization      True         0             600       0     0  True"
            ],
            "text/html": [
              "\n",
              "  <div id=\"df-af3fdac6-b6a5-4912-be4c-ba7c799d423f\">\n",
              "    <div class=\"colab-df-container\">\n",
              "      <div>\n",
              "<style scoped>\n",
              "    .dataframe tbody tr th:only-of-type {\n",
              "        vertical-align: middle;\n",
              "    }\n",
              "\n",
              "    .dataframe tbody tr th {\n",
              "        vertical-align: top;\n",
              "    }\n",
              "\n",
              "    .dataframe thead th {\n",
              "        text-align: right;\n",
              "    }\n",
              "</style>\n",
              "<table border=\"1\" class=\"dataframe\">\n",
              "  <thead>\n",
              "    <tr style=\"text-align: right;\">\n",
              "      <th></th>\n",
              "      <th>block</th>\n",
              "      <th>feedback</th>\n",
              "      <th>rotation</th>\n",
              "      <th>probe_type</th>\n",
              "      <th>rt</th>\n",
              "      <th>target</th>\n",
              "      <th>jump</th>\n",
              "      <th>vis</th>\n",
              "    </tr>\n",
              "  </thead>\n",
              "  <tbody>\n",
              "    <tr>\n",
              "      <th>0</th>\n",
              "      <td>familiarization</td>\n",
              "      <td>True</td>\n",
              "      <td>0</td>\n",
              "      <td></td>\n",
              "      <td>600</td>\n",
              "      <td>0</td>\n",
              "      <td>0</td>\n",
              "      <td>True</td>\n",
              "    </tr>\n",
              "    <tr>\n",
              "      <th>1</th>\n",
              "      <td>familiarization</td>\n",
              "      <td>True</td>\n",
              "      <td>0</td>\n",
              "      <td></td>\n",
              "      <td>600</td>\n",
              "      <td>0</td>\n",
              "      <td>0</td>\n",
              "      <td>True</td>\n",
              "    </tr>\n",
              "    <tr>\n",
              "      <th>2</th>\n",
              "      <td>familiarization</td>\n",
              "      <td>True</td>\n",
              "      <td>0</td>\n",
              "      <td></td>\n",
              "      <td>600</td>\n",
              "      <td>0</td>\n",
              "      <td>0</td>\n",
              "      <td>True</td>\n",
              "    </tr>\n",
              "    <tr>\n",
              "      <th>3</th>\n",
              "      <td>familiarization</td>\n",
              "      <td>True</td>\n",
              "      <td>0</td>\n",
              "      <td></td>\n",
              "      <td>600</td>\n",
              "      <td>0</td>\n",
              "      <td>0</td>\n",
              "      <td>True</td>\n",
              "    </tr>\n",
              "    <tr>\n",
              "      <th>4</th>\n",
              "      <td>familiarization</td>\n",
              "      <td>True</td>\n",
              "      <td>0</td>\n",
              "      <td></td>\n",
              "      <td>600</td>\n",
              "      <td>0</td>\n",
              "      <td>0</td>\n",
              "      <td>True</td>\n",
              "    </tr>\n",
              "  </tbody>\n",
              "</table>\n",
              "</div>\n",
              "      <button class=\"colab-df-convert\" onclick=\"convertToInteractive('df-af3fdac6-b6a5-4912-be4c-ba7c799d423f')\"\n",
              "              title=\"Convert this dataframe to an interactive table.\"\n",
              "              style=\"display:none;\">\n",
              "        \n",
              "  <svg xmlns=\"http://www.w3.org/2000/svg\" height=\"24px\"viewBox=\"0 0 24 24\"\n",
              "       width=\"24px\">\n",
              "    <path d=\"M0 0h24v24H0V0z\" fill=\"none\"/>\n",
              "    <path d=\"M18.56 5.44l.94 2.06.94-2.06 2.06-.94-2.06-.94-.94-2.06-.94 2.06-2.06.94zm-11 1L8.5 8.5l.94-2.06 2.06-.94-2.06-.94L8.5 2.5l-.94 2.06-2.06.94zm10 10l.94 2.06.94-2.06 2.06-.94-2.06-.94-.94-2.06-.94 2.06-2.06.94z\"/><path d=\"M17.41 7.96l-1.37-1.37c-.4-.4-.92-.59-1.43-.59-.52 0-1.04.2-1.43.59L10.3 9.45l-7.72 7.72c-.78.78-.78 2.05 0 2.83L4 21.41c.39.39.9.59 1.41.59.51 0 1.02-.2 1.41-.59l7.78-7.78 2.81-2.81c.8-.78.8-2.07 0-2.86zM5.41 20L4 18.59l7.72-7.72 1.47 1.35L5.41 20z\"/>\n",
              "  </svg>\n",
              "      </button>\n",
              "      \n",
              "  <style>\n",
              "    .colab-df-container {\n",
              "      display:flex;\n",
              "      flex-wrap:wrap;\n",
              "      gap: 12px;\n",
              "    }\n",
              "\n",
              "    .colab-df-convert {\n",
              "      background-color: #E8F0FE;\n",
              "      border: none;\n",
              "      border-radius: 50%;\n",
              "      cursor: pointer;\n",
              "      display: none;\n",
              "      fill: #1967D2;\n",
              "      height: 32px;\n",
              "      padding: 0 0 0 0;\n",
              "      width: 32px;\n",
              "    }\n",
              "\n",
              "    .colab-df-convert:hover {\n",
              "      background-color: #E2EBFA;\n",
              "      box-shadow: 0px 1px 2px rgba(60, 64, 67, 0.3), 0px 1px 3px 1px rgba(60, 64, 67, 0.15);\n",
              "      fill: #174EA6;\n",
              "    }\n",
              "\n",
              "    [theme=dark] .colab-df-convert {\n",
              "      background-color: #3B4455;\n",
              "      fill: #D2E3FC;\n",
              "    }\n",
              "\n",
              "    [theme=dark] .colab-df-convert:hover {\n",
              "      background-color: #434B5C;\n",
              "      box-shadow: 0px 1px 3px 1px rgba(0, 0, 0, 0.15);\n",
              "      filter: drop-shadow(0px 1px 2px rgba(0, 0, 0, 0.3));\n",
              "      fill: #FFFFFF;\n",
              "    }\n",
              "  </style>\n",
              "\n",
              "      <script>\n",
              "        const buttonEl =\n",
              "          document.querySelector('#df-af3fdac6-b6a5-4912-be4c-ba7c799d423f button.colab-df-convert');\n",
              "        buttonEl.style.display =\n",
              "          google.colab.kernel.accessAllowed ? 'block' : 'none';\n",
              "\n",
              "        async function convertToInteractive(key) {\n",
              "          const element = document.querySelector('#df-af3fdac6-b6a5-4912-be4c-ba7c799d423f');\n",
              "          const dataTable =\n",
              "            await google.colab.kernel.invokeFunction('convertToInteractive',\n",
              "                                                     [key], {});\n",
              "          if (!dataTable) return;\n",
              "\n",
              "          const docLinkHtml = 'Like what you see? Visit the ' +\n",
              "            '<a target=\"_blank\" href=https://colab.research.google.com/notebooks/data_table.ipynb>data table notebook</a>'\n",
              "            + ' to learn more about interactive tables.';\n",
              "          element.innerHTML = '';\n",
              "          dataTable['output_type'] = 'display_data';\n",
              "          await google.colab.output.renderOutput(dataTable, element);\n",
              "          const docLink = document.createElement('div');\n",
              "          docLink.innerHTML = docLinkHtml;\n",
              "          element.appendChild(docLink);\n",
              "        }\n",
              "      </script>\n",
              "    </div>\n",
              "  </div>\n",
              "  "
            ]
          },
          "metadata": {},
          "execution_count": 110
        }
      ]
    },
    {
      "cell_type": "markdown",
      "source": [
        "# Define the model"
      ],
      "metadata": {
        "id": "ViKt8kIlNHYw"
      }
    },
    {
      "cell_type": "markdown",
      "source": [
        "## State update\n",
        "\n",
        "The model will have two or three states. We'll start with a two state model with a recalibration process, $r$, and a strategic process, $s$. The actual movement will include motor error, $\\epsilon$, and the perturbation, $p$. \n",
        "\n",
        "$\n",
        "\\begin{align}\n",
        "x_n & = x_{r,n} + x_{s,n} \\\\\n",
        "y_n & = x_n + p_n + \\epsilon_n \\\\\n",
        "\\epsilon_n & \\sim N(0, \\sigma^2_{\\epsilon})\n",
        "\\end{align}\n",
        "$\n",
        "\n",
        "We will assume that the recalibration process is sensitive to sensory prediction error, $x_n - y_n$, while the strategic process is sensitive to target error, $y_n$. Each has a learning, $B$, and forgetting, $A$, term and Eeach of them includes a noise term, $\\eta$\n",
        "\n",
        "$\n",
        "\\begin{align}\n",
        "x_{r,n+1} & = A_r x_{r,n} - B_r (y_n - x_{s,n}) + \\eta_{r,n} \\\\\n",
        "x_{s,n+1} & = A_s x_{s,n} - B_s y_n + \\eta_{s,n} \\\\\n",
        "\\eta_{r,n}, \\eta_{s,n} & \\sim N(0, \\sigma^2_{\\eta})\n",
        "\\end{align}\n",
        "$\n",
        "\n"
      ],
      "metadata": {
        "id": "yoFoJjYcynFu"
      }
    },
    {
      "cell_type": "markdown",
      "source": [
        "### Code for state update"
      ],
      "metadata": {
        "id": "jp0oo0WLM4eR"
      }
    },
    {
      "cell_type": "code",
      "source": [
        "def state_update(x: struct, phi, rho, p: struct, rot, vis):\n",
        "  epsilon = random.normalvariate(0, p.sep)\n",
        "  eta_r = random.normalvariate(0, p.seta)\n",
        "  eta_s = random.normalvariate(0, p.seta) \n",
        "  xn = x.r*rho + x.s*phi\n",
        "  hn = xn + epsilon\n",
        "  yn = hn + rot\n",
        "  x1 = struct()\n",
        "  if vis:\n",
        "    x1.r = p.Ar * x.r - p.Br * (yn - x.s*phi) + eta_r\n",
        "    x1.s = p.As * x.s - p.Bs * yn + eta_s\n",
        "  else:\n",
        "    x1.r = p.Ar * x.r + eta_r\n",
        "    x1.s = p.As * x.s + eta_s\n",
        "\n",
        "  return x1, yn, hn"
      ],
      "metadata": {
        "id": "kTbBSJtWIBde"
      },
      "execution_count": 111,
      "outputs": []
    },
    {
      "cell_type": "markdown",
      "source": [
        "## Skill learning\n",
        "\n",
        "According to the grant, skills are learned in response to each process. That is, recalibration will cause increased skill and strategic adaptation will aso cause increased skill. However, there are three skill processes, $S$, and each of them will be increased diferently by the two adaptation processes: *preparation*, $S_P$, *generatization*, $S_G$, and *feedback*, $S_F$. .\n",
        "\n",
        "There is some question as to what **in the adaptation process** actually drives the skill learning. The easiest for me to imagine is that the rate of adaptation is driving the skill learning: $S_r = B_r (x_n - y_n)$ and $S_s = B_s y_n$.\n",
        "\n",
        "I'll also magically assume that skill only increases. That's probably a dumb assumption. We weren't clear in the grant.\n",
        "\n",
        "$\n",
        "\\begin{align}\n",
        "\\Delta S_P & = \\alpha_{P,r} S_r^2 + \\alpha_{P,s} S_s^2 \\\\\n",
        "\\Delta S_G & = \\alpha_{G,r} S_r^2 + \\alpha_{G,s} S_s^2 \\\\\n",
        "\\Delta S_F & = \\alpha_{F,r} S_r^2 + \\alpha_{F,s} S_s^2\n",
        "\\end{align}\n",
        "$\n",
        "\n",
        "We could use these to drive the skill.\n",
        "\n",
        "We will then use a logistic / logit transform to keep the skill between $0$ and $1$. To make skill increase early and then plateau, let's start with a half-expit (slope of 1 at the beginning), although we could shift the beginning point to anywhere to have skill start to really increase only after some practice.\n"
      ],
      "metadata": {
        "id": "1Fb0Kx0iEsti"
      }
    },
    {
      "cell_type": "markdown",
      "source": [
        "### Code for skill learning\n",
        "\n"
      ],
      "metadata": {
        "id": "zgSrEdWUNqLE"
      }
    },
    {
      "cell_type": "code",
      "source": [
        "def skill_learn(S, x: struct, p: struct, y):\n",
        "  S1 = struct()\n",
        "  Sr = ( p.Br * (x.r + x.s - y) )**2\n",
        "  Ss = ( p.Bs * y )**2\n",
        "  a = p.alpha\n",
        "  S1.P = S.P + a.Pr * Sr + a.Ps * Ss\n",
        "  S1.G = S.G + a.Gr * Sr + a.Gs * Ss\n",
        "  S1.F = S.F + a.Fr * Sr + a.Fs * Ss\n",
        "  return S1"
      ],
      "metadata": {
        "id": "ndseuwmhDdZ_"
      },
      "execution_count": 112,
      "outputs": []
    },
    {
      "cell_type": "code",
      "source": [
        "def transform_skill(S, S0):\n",
        "  # This will produce a partial sigmoid so that sigmoid is stretched and translated \n",
        "  # the sigmoid domain from S0 to Inf which ranges from expit(S0) to 1 is mapped\n",
        "  # to the domain 0 to Inf and ranges from 0 to 1 \n",
        "  return (expit(S+S0)-expit(S0))/(1-expit(S0))"
      ],
      "metadata": {
        "id": "OPZJBtijz4Ec"
      },
      "execution_count": 113,
      "outputs": []
    },
    {
      "cell_type": "markdown",
      "source": [
        "## Probe trials\n",
        "\n",
        "Probe trials manipulate a specific aspect of task condition and measure the effect on movement direction."
      ],
      "metadata": {
        "id": "a6kXpUXeNzdV"
      }
    },
    {
      "cell_type": "markdown",
      "source": [
        "### *Preparation* probes affect **strategic**\n",
        "\n",
        "In *preparation* trials, the reaction time is manipulated. Reduced reaction time limits expression of **strategic** adaptation. We model this relationship as piecewise linear:\n",
        "\n",
        "$\n",
        "\\begin{align}\n",
        "x_{s}(RT) & = x_{s,\\infty} \\phi(RT) \\\\\n",
        "\\phi(RT) & = \\begin{cases}\n",
        "1 & \\text{if } RT_{\\infty} \\le RT \\\\\n",
        "\\phi_0 + \\frac{RT - RT_0}{RT_{\\infty}  - RT_0}(1-\\phi_0) & \\text{if } RT_0 \\le RT \\le RT_{\\infty} \\\\\n",
        "\\phi_0 & \\text{if } RT \\le RT_0\n",
        "\\end{cases}\n",
        "\\end{align}\n",
        "$\n",
        "\n",
        "Skill learning will increase $\\phi_0$ and reduce $RT_0$ causing the preparation / performance function to flatten."
      ],
      "metadata": {
        "id": "AdeBZ9TAk8Xc"
      }
    },
    {
      "cell_type": "markdown",
      "source": [
        "#### Code for effect of RT on strategic"
      ],
      "metadata": {
        "id": "TsIenPqVN7IP"
      }
    },
    {
      "cell_type": "code",
      "source": [
        "def preparation_phi(RT, SP, p:struct):\n",
        "  eS = transform_skill(SP, p.S0.P)\n",
        "  phi0 = p.min_phi0 + eS*(p.max_phi0 - p.min_phi0)\n",
        "  RT0 = p.max_RT0 + eS*(p.min_RT0 - p.max_RT0)\n",
        "  RTinf = p.RTinf\n",
        "  RT = np.minimum(np.maximum(RT, RT0), RTinf)\n",
        "  return phi0 + (1-phi0)*(RT-RT0)/(RTinf - RT0)\n",
        "  "
      ],
      "metadata": {
        "id": "XCDQP4Ed0_pA"
      },
      "execution_count": 114,
      "outputs": []
    },
    {
      "cell_type": "markdown",
      "source": [
        "### *Generalization* probes affect **recalibration**\n",
        "In *generalization* trials, movements are made to a target that is different from the trained targets. We assume **strategic** adaptation is applied quite broadly and is not affected by the difference. In contrast, **recalibration** will be reduced as a function of the distance from the trained target.\n",
        "\n",
        "$\n",
        "\\begin{align}\n",
        "x_r(\\theta) & = x_{r,0} \\rho(\\theta) \\\\\n",
        "\\rho(\\theta) &= e^{- \\frac{\\theta^2}{\\rho_0^2}}\n",
        "\\end{align}\n",
        "$\n",
        "\n",
        "In this formulation, $\\rho_0$ gives the distance from the training target where **recalibration** falls to $\\frac{1}{3}$ of its maximum. Skill will increase $\\rho_0$."
      ],
      "metadata": {
        "id": "71_r-9EAE4vr"
      }
    },
    {
      "cell_type": "markdown",
      "source": [
        "#### Code for effect of generalization on recalibration"
      ],
      "metadata": {
        "id": "0JAO8MJpOEbn"
      }
    },
    {
      "cell_type": "code",
      "source": [
        "def generalization_rho(target, SG, p:struct):\n",
        "  eS = transform_skill(SG, p.S0.G)\n",
        "  rho0 = p.min_rho0 + eS*(p.max_rho0 - p.min_rho0)\n",
        "  return np.exp(target*target / (rho0*rho0))"
      ],
      "metadata": {
        "id": "IJ-TnHYTIoKI"
      },
      "execution_count": 115,
      "outputs": []
    },
    {
      "cell_type": "markdown",
      "source": [
        "### *Feedback* probes affect movement\n",
        "\n",
        "In *feedback* probe trials, the target jumps during the movement. We can then measure the extent of correction following the jump. That is, we are assuming that if the feedback is processed very slowly, the movement will be identical to a movement to the original target. If the feedback is processed very quickly, the movement will be identical to a movement to the target that was jumped to. \n",
        "\n",
        "Thus, the outcome of the trial can be expressed in terms of the fraction of the distance the reach is between these two possibilities.\n",
        "\n",
        "$\n",
        "x = x_{\\text{original}} + (x_{\\text{jump}} - x_{\\text{original}}) \\tau\n",
        "$\n",
        "\n",
        "With the value of $\\tau$ increasing with skill"
      ],
      "metadata": {
        "id": "BhNzVDG3JljP"
      }
    },
    {
      "cell_type": "markdown",
      "source": [
        "#### Code for effect of feedback on actual movement"
      ],
      "metadata": {
        "id": "as1L6518Om9J"
      }
    },
    {
      "cell_type": "code",
      "source": [
        "def feedback_tau(SF, p):\n",
        "  eS = transform_skill(SF, p.S0.F)\n",
        "  return p.min_tau + eS*(p.max_tau - p.min_tau)"
      ],
      "metadata": {
        "id": "9vkpbcc3LiPa"
      },
      "execution_count": 116,
      "outputs": []
    },
    {
      "cell_type": "markdown",
      "source": [
        "# Setting values of all constants\n",
        "\n",
        "Including:\n",
        "- Parameters of state: $A$, $B$, $\\sigma_{\\epsilon}$, $\\sigma_{\\eta}$, \n",
        "- Parameters of skill development: $\\alpha_{P,r}$, $\\alpha_{P,s}$, $\\alpha_{G,r}$, $\\alpha_{G,s}$, $\\alpha_{F,r}$, $\\alpha_{F,s}$.\n",
        "- Parameters of skill expression:\n",
        "  - Preparation: $\\phi_{0,\\text{min}}$, $\\phi_{0,\\text{max}}$, $RT_{0,\\text{min}}$, $RT_{0,\\text{max}}$\n",
        "  - Generalization: $\\rho_{0,\\text{min}}$, $\\rho_{0,\\text{max}}$\n",
        "  - Feedback: $\\tau_{\\text{min}}$, $\\tau_{\\text{max}}$"
      ],
      "metadata": {
        "id": "zV3Gf3fGlE8z"
      }
    },
    {
      "cell_type": "code",
      "source": [
        "# Parameter struct\n",
        "p0 = struct()"
      ],
      "metadata": {
        "id": "QyT0HBcSL4DP"
      },
      "execution_count": 117,
      "outputs": []
    },
    {
      "cell_type": "markdown",
      "source": [
        "## Parameters of state"
      ],
      "metadata": {
        "id": "ogH2c6PlOwC5"
      }
    },
    {
      "cell_type": "code",
      "source": [
        "p0.Ar = 0.98\n",
        "p0.Br = 0.01\n",
        "p0.As = 0.8\n",
        "p0.Bs = 0.2\n",
        "p0.sep = 0.001\n",
        "p0.seta = 0.001\n",
        "p0.x0 = struct()\n",
        "p0.x0.r = random.normalvariate(0, p0.seta)\n",
        "p0.x0.s = random.normalvariate(0, p0.seta)"
      ],
      "metadata": {
        "id": "lDC-wLsgQqiI"
      },
      "execution_count": 118,
      "outputs": []
    },
    {
      "cell_type": "markdown",
      "source": [
        "## Parameters of skill development"
      ],
      "metadata": {
        "id": "kGrBcJKQO0WW"
      }
    },
    {
      "cell_type": "code",
      "source": [
        "p0.alpha = struct()\n",
        "p0.alpha.Pr = 1e-4\n",
        "p0.alpha.Ps = 5e-4\n",
        "p0.alpha.Gr = 2e-4\n",
        "p0.alpha.Gs = 2e-4\n",
        "p0.alpha.Fr = 5e-4\n",
        "p0.alpha.Fs = 1e-4\n",
        "# Initial values of skill\n",
        "p0.S0 = struct() \n",
        "p0.S0.P = -3\n",
        "p0.S0.G = 0\n",
        "p0.S0.F = 0"
      ],
      "metadata": {
        "id": "yJ6oieaDvU1P"
      },
      "execution_count": 119,
      "outputs": []
    },
    {
      "cell_type": "markdown",
      "source": [
        "## Parameters of skill expression"
      ],
      "metadata": {
        "id": "1J6LsIhJO3nr"
      }
    },
    {
      "cell_type": "code",
      "source": [
        "p0.min_phi0 = 0.0\n",
        "p0.max_phi0 = 0.7\n",
        "p0.min_RT0 = 350\n",
        "p0.max_RT0 = 150\n",
        "p0.RTinf = 500\n",
        "p0.min_rho0 = 20\n",
        "p0.max_rho0 = 50\n",
        "p0.min_tau = 0.2\n",
        "p0.max_tau = 0.8\n"
      ],
      "metadata": {
        "id": "EEJZIZymTc1E"
      },
      "execution_count": 120,
      "outputs": []
    },
    {
      "cell_type": "markdown",
      "source": [
        "# Simulating the control condition\n"
      ],
      "metadata": {
        "id": "zQ-FKLlDlh2F"
      }
    },
    {
      "cell_type": "markdown",
      "source": [
        "## Code for simulation"
      ],
      "metadata": {
        "id": "z3AWW2OuUEGC"
      }
    },
    {
      "cell_type": "code",
      "source": [
        "def run_experiment(mvmt_table, p0):\n",
        "  x = struct()\n",
        "  x.r = p0.x0.r\n",
        "  x.s = p0.x0.s\n",
        "\n",
        "  S = struct()\n",
        "  S.P = p0.S0.P\n",
        "  S.G = p0.S0.G\n",
        "  S.F = p0.S0.F\n",
        "\n",
        "  mvmt_table = mvmt_table.copy()\n",
        "  mvmt_table = mvmt_table.assign(\n",
        "      xs=np.nan, xr=np.nan,\n",
        "      SP=np.nan, SG=np.nan, SF=np.nan,\n",
        "      y=np.nan, h=np.nan,\n",
        "      phi=np.nan, rho=np.nan, tau=np.nan)\n",
        "  for mvmt_num, mvmt in mvmt_table.iterrows():\n",
        "    rot = mvmt.rotation\n",
        "\n",
        "    mvmt_table.loc[mvmt_num, [\"xr\", \"xs\"]] = [x.r, x.s]\n",
        "    mvmt_table.loc[mvmt_num, [\"SP\", \"SG\", \"SF\"]] = [S.P, S.G, S.F]\n",
        "    mvmt_table.loc[mvmt_num, [\"eSP\", \"eSG\", \"eSF\"]] = (\n",
        "                                                        transform_skill(S.P, p0.S0.P),\n",
        "                                                        transform_skill(S.G, p0.S0.G),\n",
        "                                                        transform_skill(S.F, p0.S0.F),\n",
        "    )\n",
        "\n",
        "    # Get current trial conditions\n",
        "    rt = mvmt.rt\n",
        "    target = mvmt.target\n",
        "    vis = mvmt.vis\n",
        "\n",
        "    # Set behavior according to skill and conditions\n",
        "    p = p0\n",
        "    phi = preparation_phi(rt, S.P, p)\n",
        "    rho = generalization_rho(target, S.G, p)\n",
        "    tau = feedback_tau(S.F, p)\n",
        "\n",
        "    \n",
        "    # User current behavior to update state\n",
        "    x1,yn,hn = state_update(x, phi, rho, p, rot, vis)\n",
        "    S1 = skill_learn(S, x, p, yn)\n",
        "\n",
        "    if mvmt.probe_type == 'feedback':\n",
        "      jump_target = mvmt.jump\n",
        "      \n",
        "      rho_jump = generalization_rho(jump_target, S.G, p)\n",
        "      x_jump,y_jump, h_jump = state_update(x, phi, rho_jump, p, rot, vis)\n",
        "      \n",
        "      y_jump = y_jump + jump_target\n",
        "      h_jump = h_jump + jump_target\n",
        "      yn = yn + tau*(y_jump - yn)\n",
        "      hn = hn + tau*(h_jump - hn)\n",
        "   \n",
        "\n",
        "    mvmt_table.loc[mvmt_num, [\"y\", \"h\"]] = [yn, hn]\n",
        "    mvmt_table.loc[mvmt_num, [\"phi\", \"rho\", \"tau\"]] = [phi, rho, tau]\n",
        "    \n",
        "\n",
        "    # Update state with new values\n",
        "    x = x1\n",
        "    S = S1\n",
        "  return mvmt_table\n",
        "\n",
        "mvmt_table = run_experiment(mvmt_table, p0)"
      ],
      "metadata": {
        "id": "HTJGpikqM-An"
      },
      "execution_count": 121,
      "outputs": []
    },
    {
      "cell_type": "code",
      "source": [
        "mvmt_table.head()"
      ],
      "metadata": {
        "colab": {
          "base_uri": "https://localhost:8080/",
          "height": 299
        },
        "id": "farwqbOQ1DLF",
        "outputId": "26970398-87a8-480b-897f-58686b9ae124"
      },
      "execution_count": 122,
      "outputs": [
        {
          "output_type": "execute_result",
          "data": {
            "text/plain": [
              "             block  feedback  rotation probe_type   rt  target  jump   vis  \\\n",
              "0  familiarization      True         0             600       0     0  True   \n",
              "1  familiarization      True         0             600       0     0  True   \n",
              "2  familiarization      True         0             600       0     0  True   \n",
              "3  familiarization      True         0             600       0     0  True   \n",
              "4  familiarization      True         0             600       0     0  True   \n",
              "\n",
              "         xs        xr  ...            SG            SF         y         h  \\\n",
              "0 -0.001246 -0.000711  ...  0.000000e+00  0.000000e+00 -0.003602 -0.003602   \n",
              "1  0.001126 -0.001565  ...  1.038273e-10  5.202192e-11 -0.000930 -0.000930   \n",
              "2  0.001338 -0.000971  ...  1.107496e-10  5.549272e-11  0.000663  0.000663   \n",
              "3 -0.000882 -0.000344  ...  1.142644e-10  5.725362e-11 -0.001340 -0.001340   \n",
              "4 -0.001040 -0.000019  ...  1.286343e-10  6.443909e-11 -0.000747 -0.000747   \n",
              "\n",
              "   phi  rho  tau       eSP           eSG           eSF  \n",
              "0  1.0  1.0  0.2 -0.047191  0.000000e+00  0.000000e+00  \n",
              "1  1.0  1.0  0.2 -0.047191  5.191358e-11  2.601097e-11  \n",
              "2  1.0  1.0  0.2 -0.047191  5.537482e-11  2.774647e-11  \n",
              "3  1.0  1.0  0.2 -0.047191  5.713230e-11  2.862688e-11  \n",
              "4  1.0  1.0  0.2 -0.047191  6.431722e-11  3.221956e-11  \n",
              "\n",
              "[5 rows x 21 columns]"
            ],
            "text/html": [
              "\n",
              "  <div id=\"df-b7cec7b4-35fd-4945-b5b4-e133e35f6733\">\n",
              "    <div class=\"colab-df-container\">\n",
              "      <div>\n",
              "<style scoped>\n",
              "    .dataframe tbody tr th:only-of-type {\n",
              "        vertical-align: middle;\n",
              "    }\n",
              "\n",
              "    .dataframe tbody tr th {\n",
              "        vertical-align: top;\n",
              "    }\n",
              "\n",
              "    .dataframe thead th {\n",
              "        text-align: right;\n",
              "    }\n",
              "</style>\n",
              "<table border=\"1\" class=\"dataframe\">\n",
              "  <thead>\n",
              "    <tr style=\"text-align: right;\">\n",
              "      <th></th>\n",
              "      <th>block</th>\n",
              "      <th>feedback</th>\n",
              "      <th>rotation</th>\n",
              "      <th>probe_type</th>\n",
              "      <th>rt</th>\n",
              "      <th>target</th>\n",
              "      <th>jump</th>\n",
              "      <th>vis</th>\n",
              "      <th>xs</th>\n",
              "      <th>xr</th>\n",
              "      <th>...</th>\n",
              "      <th>SG</th>\n",
              "      <th>SF</th>\n",
              "      <th>y</th>\n",
              "      <th>h</th>\n",
              "      <th>phi</th>\n",
              "      <th>rho</th>\n",
              "      <th>tau</th>\n",
              "      <th>eSP</th>\n",
              "      <th>eSG</th>\n",
              "      <th>eSF</th>\n",
              "    </tr>\n",
              "  </thead>\n",
              "  <tbody>\n",
              "    <tr>\n",
              "      <th>0</th>\n",
              "      <td>familiarization</td>\n",
              "      <td>True</td>\n",
              "      <td>0</td>\n",
              "      <td></td>\n",
              "      <td>600</td>\n",
              "      <td>0</td>\n",
              "      <td>0</td>\n",
              "      <td>True</td>\n",
              "      <td>-0.001246</td>\n",
              "      <td>-0.000711</td>\n",
              "      <td>...</td>\n",
              "      <td>0.000000e+00</td>\n",
              "      <td>0.000000e+00</td>\n",
              "      <td>-0.003602</td>\n",
              "      <td>-0.003602</td>\n",
              "      <td>1.0</td>\n",
              "      <td>1.0</td>\n",
              "      <td>0.2</td>\n",
              "      <td>-0.047191</td>\n",
              "      <td>0.000000e+00</td>\n",
              "      <td>0.000000e+00</td>\n",
              "    </tr>\n",
              "    <tr>\n",
              "      <th>1</th>\n",
              "      <td>familiarization</td>\n",
              "      <td>True</td>\n",
              "      <td>0</td>\n",
              "      <td></td>\n",
              "      <td>600</td>\n",
              "      <td>0</td>\n",
              "      <td>0</td>\n",
              "      <td>True</td>\n",
              "      <td>0.001126</td>\n",
              "      <td>-0.001565</td>\n",
              "      <td>...</td>\n",
              "      <td>1.038273e-10</td>\n",
              "      <td>5.202192e-11</td>\n",
              "      <td>-0.000930</td>\n",
              "      <td>-0.000930</td>\n",
              "      <td>1.0</td>\n",
              "      <td>1.0</td>\n",
              "      <td>0.2</td>\n",
              "      <td>-0.047191</td>\n",
              "      <td>5.191358e-11</td>\n",
              "      <td>2.601097e-11</td>\n",
              "    </tr>\n",
              "    <tr>\n",
              "      <th>2</th>\n",
              "      <td>familiarization</td>\n",
              "      <td>True</td>\n",
              "      <td>0</td>\n",
              "      <td></td>\n",
              "      <td>600</td>\n",
              "      <td>0</td>\n",
              "      <td>0</td>\n",
              "      <td>True</td>\n",
              "      <td>0.001338</td>\n",
              "      <td>-0.000971</td>\n",
              "      <td>...</td>\n",
              "      <td>1.107496e-10</td>\n",
              "      <td>5.549272e-11</td>\n",
              "      <td>0.000663</td>\n",
              "      <td>0.000663</td>\n",
              "      <td>1.0</td>\n",
              "      <td>1.0</td>\n",
              "      <td>0.2</td>\n",
              "      <td>-0.047191</td>\n",
              "      <td>5.537482e-11</td>\n",
              "      <td>2.774647e-11</td>\n",
              "    </tr>\n",
              "    <tr>\n",
              "      <th>3</th>\n",
              "      <td>familiarization</td>\n",
              "      <td>True</td>\n",
              "      <td>0</td>\n",
              "      <td></td>\n",
              "      <td>600</td>\n",
              "      <td>0</td>\n",
              "      <td>0</td>\n",
              "      <td>True</td>\n",
              "      <td>-0.000882</td>\n",
              "      <td>-0.000344</td>\n",
              "      <td>...</td>\n",
              "      <td>1.142644e-10</td>\n",
              "      <td>5.725362e-11</td>\n",
              "      <td>-0.001340</td>\n",
              "      <td>-0.001340</td>\n",
              "      <td>1.0</td>\n",
              "      <td>1.0</td>\n",
              "      <td>0.2</td>\n",
              "      <td>-0.047191</td>\n",
              "      <td>5.713230e-11</td>\n",
              "      <td>2.862688e-11</td>\n",
              "    </tr>\n",
              "    <tr>\n",
              "      <th>4</th>\n",
              "      <td>familiarization</td>\n",
              "      <td>True</td>\n",
              "      <td>0</td>\n",
              "      <td></td>\n",
              "      <td>600</td>\n",
              "      <td>0</td>\n",
              "      <td>0</td>\n",
              "      <td>True</td>\n",
              "      <td>-0.001040</td>\n",
              "      <td>-0.000019</td>\n",
              "      <td>...</td>\n",
              "      <td>1.286343e-10</td>\n",
              "      <td>6.443909e-11</td>\n",
              "      <td>-0.000747</td>\n",
              "      <td>-0.000747</td>\n",
              "      <td>1.0</td>\n",
              "      <td>1.0</td>\n",
              "      <td>0.2</td>\n",
              "      <td>-0.047191</td>\n",
              "      <td>6.431722e-11</td>\n",
              "      <td>3.221956e-11</td>\n",
              "    </tr>\n",
              "  </tbody>\n",
              "</table>\n",
              "<p>5 rows × 21 columns</p>\n",
              "</div>\n",
              "      <button class=\"colab-df-convert\" onclick=\"convertToInteractive('df-b7cec7b4-35fd-4945-b5b4-e133e35f6733')\"\n",
              "              title=\"Convert this dataframe to an interactive table.\"\n",
              "              style=\"display:none;\">\n",
              "        \n",
              "  <svg xmlns=\"http://www.w3.org/2000/svg\" height=\"24px\"viewBox=\"0 0 24 24\"\n",
              "       width=\"24px\">\n",
              "    <path d=\"M0 0h24v24H0V0z\" fill=\"none\"/>\n",
              "    <path d=\"M18.56 5.44l.94 2.06.94-2.06 2.06-.94-2.06-.94-.94-2.06-.94 2.06-2.06.94zm-11 1L8.5 8.5l.94-2.06 2.06-.94-2.06-.94L8.5 2.5l-.94 2.06-2.06.94zm10 10l.94 2.06.94-2.06 2.06-.94-2.06-.94-.94-2.06-.94 2.06-2.06.94z\"/><path d=\"M17.41 7.96l-1.37-1.37c-.4-.4-.92-.59-1.43-.59-.52 0-1.04.2-1.43.59L10.3 9.45l-7.72 7.72c-.78.78-.78 2.05 0 2.83L4 21.41c.39.39.9.59 1.41.59.51 0 1.02-.2 1.41-.59l7.78-7.78 2.81-2.81c.8-.78.8-2.07 0-2.86zM5.41 20L4 18.59l7.72-7.72 1.47 1.35L5.41 20z\"/>\n",
              "  </svg>\n",
              "      </button>\n",
              "      \n",
              "  <style>\n",
              "    .colab-df-container {\n",
              "      display:flex;\n",
              "      flex-wrap:wrap;\n",
              "      gap: 12px;\n",
              "    }\n",
              "\n",
              "    .colab-df-convert {\n",
              "      background-color: #E8F0FE;\n",
              "      border: none;\n",
              "      border-radius: 50%;\n",
              "      cursor: pointer;\n",
              "      display: none;\n",
              "      fill: #1967D2;\n",
              "      height: 32px;\n",
              "      padding: 0 0 0 0;\n",
              "      width: 32px;\n",
              "    }\n",
              "\n",
              "    .colab-df-convert:hover {\n",
              "      background-color: #E2EBFA;\n",
              "      box-shadow: 0px 1px 2px rgba(60, 64, 67, 0.3), 0px 1px 3px 1px rgba(60, 64, 67, 0.15);\n",
              "      fill: #174EA6;\n",
              "    }\n",
              "\n",
              "    [theme=dark] .colab-df-convert {\n",
              "      background-color: #3B4455;\n",
              "      fill: #D2E3FC;\n",
              "    }\n",
              "\n",
              "    [theme=dark] .colab-df-convert:hover {\n",
              "      background-color: #434B5C;\n",
              "      box-shadow: 0px 1px 3px 1px rgba(0, 0, 0, 0.15);\n",
              "      filter: drop-shadow(0px 1px 2px rgba(0, 0, 0, 0.3));\n",
              "      fill: #FFFFFF;\n",
              "    }\n",
              "  </style>\n",
              "\n",
              "      <script>\n",
              "        const buttonEl =\n",
              "          document.querySelector('#df-b7cec7b4-35fd-4945-b5b4-e133e35f6733 button.colab-df-convert');\n",
              "        buttonEl.style.display =\n",
              "          google.colab.kernel.accessAllowed ? 'block' : 'none';\n",
              "\n",
              "        async function convertToInteractive(key) {\n",
              "          const element = document.querySelector('#df-b7cec7b4-35fd-4945-b5b4-e133e35f6733');\n",
              "          const dataTable =\n",
              "            await google.colab.kernel.invokeFunction('convertToInteractive',\n",
              "                                                     [key], {});\n",
              "          if (!dataTable) return;\n",
              "\n",
              "          const docLinkHtml = 'Like what you see? Visit the ' +\n",
              "            '<a target=\"_blank\" href=https://colab.research.google.com/notebooks/data_table.ipynb>data table notebook</a>'\n",
              "            + ' to learn more about interactive tables.';\n",
              "          element.innerHTML = '';\n",
              "          dataTable['output_type'] = 'display_data';\n",
              "          await google.colab.output.renderOutput(dataTable, element);\n",
              "          const docLink = document.createElement('div');\n",
              "          docLink.innerHTML = docLinkHtml;\n",
              "          element.appendChild(docLink);\n",
              "        }\n",
              "      </script>\n",
              "    </div>\n",
              "  </div>\n",
              "  "
            ]
          },
          "metadata": {},
          "execution_count": 122
        }
      ]
    },
    {
      "cell_type": "markdown",
      "source": [
        "## Plots of simulated data"
      ],
      "metadata": {
        "id": "8fHIw89ykHe3"
      }
    },
    {
      "cell_type": "code",
      "source": [
        "def plot_learning_curves(mvmt_table):\n",
        "  fig, (axh, axx, axS) = plt.subplots(3, sharex=True)\n",
        "  fig.suptitle('Simulated data')\n",
        "  axh.plot(mvmt_table[\"h\"], label=\"hand\")\n",
        "  axh.legend()\n",
        "  axx.plot(mvmt_table[\"xr\"], label=\"recalibration\")\n",
        "  axx.plot(mvmt_table[\"xs\"], label=\"strategy\")\n",
        "  axx.legend()\n",
        "  axS.plot(mvmt_table[\"eSP\"], label=\"preparation\")\n",
        "  axS.plot(mvmt_table[\"eSG\"], label=\"generalization\")\n",
        "  axS.plot(mvmt_table[\"eSF\"], label=\"feedback\")\n",
        "  axS.legend()\n",
        "  return fig, (axh, axx, axS)\n",
        "\n",
        "plot_learning_curves(mvmt_table)"
      ],
      "metadata": {
        "id": "JdIxjCrMu38R",
        "colab": {
          "base_uri": "https://localhost:8080/",
          "height": 860
        },
        "outputId": "119e1d61-dbce-4461-8eed-79bf967ffc7e"
      },
      "execution_count": 123,
      "outputs": [
        {
          "output_type": "execute_result",
          "data": {
            "text/plain": [
              "(<Figure size 864x864 with 3 Axes>,\n",
              " (<matplotlib.axes._subplots.AxesSubplot at 0x7fe489d1c9d0>,\n",
              "  <matplotlib.axes._subplots.AxesSubplot at 0x7fe48a096210>,\n",
              "  <matplotlib.axes._subplots.AxesSubplot at 0x7fe489b96cd0>))"
            ]
          },
          "metadata": {},
          "execution_count": 123
        },
        {
          "output_type": "display_data",
          "data": {
            "text/plain": [
              "<Figure size 864x864 with 3 Axes>"
            ],
            "image/png": "[encoded data removed]"
          },
          "metadata": {
            "needs_background": "light"
          }
        }
      ]
    },
    {
      "cell_type": "markdown",
      "source": [
        "# Show the adaptation and skill learning for simulated data\n",
        "\n",
        "The grant describes three measures of adaptation and three measures of skill.\n",
        "\n"
      ],
      "metadata": {
        "id": "5inAnR-EMYB-"
      }
    },
    {
      "cell_type": "markdown",
      "source": [
        "## Adaptation measures\n",
        "\n",
        "The adaptation measures are: *learning rate*, the average movement direction in the first 40 rotation movements; *asymptote*, the average movement direction in the last 40 rotation movements; *aftereffect*, the average movement direction in the first 40 washout trials."
      ],
      "metadata": {
        "id": "cb6UhGgVVw-6"
      }
    },
    {
      "cell_type": "markdown",
      "source": [
        "### Code for defining adaptaton measures"
      ],
      "metadata": {
        "id": "EgW80nWlRevO"
      }
    },
    {
      "cell_type": "code",
      "source": [
        "def measure_adaptation(mvmt_table):\n",
        "  rotation_trials = mvmt_table[mvmt_table[\"block\"] == 'rotation']\n",
        "  washout_trials = mvmt_table[mvmt_table[\"block\"] == 'washout']\n",
        "  learning_rate_trials = rotation_trials.iloc[:40, :]\n",
        "  asymptote_trials = rotation_trials.iloc[-40:, :]\n",
        "  aftereffect_trials = washout_trials.iloc[:40, :]\n",
        "\n",
        "  lr = learning_rate_trials[\"h\"].mean()\n",
        "  asmp = asymptote_trials[\"h\"].mean()\n",
        "  after = aftereffect_trials[\"h\"].mean()\n",
        "  return lr, asmp, after\n",
        "\n"
      ],
      "metadata": {
        "id": "y-hRgM7qRpxU"
      },
      "execution_count": 124,
      "outputs": []
    },
    {
      "cell_type": "code",
      "source": [
        "measure_adaptation(mvmt_table)"
      ],
      "metadata": {
        "colab": {
          "base_uri": "https://localhost:8080/"
        },
        "id": "sK2bgfUhqN7g",
        "outputId": "e71aa98f-a112-4456-f54c-72475c8faf47"
      },
      "execution_count": 125,
      "outputs": [
        {
          "output_type": "execute_result",
          "data": {
            "text/plain": [
              "(-12.75154830741008, -17.249427470271335, -6.898338053843742)"
            ]
          },
          "metadata": {},
          "execution_count": 125
        }
      ]
    },
    {
      "cell_type": "markdown",
      "source": [
        "## Skill measures\n",
        "\n",
        "All skill measures are measured in 4 epochs and 3 measures of skill. The epochs are: baseline, early (first 400 rotation trials), middle (middle 400), and late (last 400). \n",
        "\n",
        "The measures of skill are *preparation*, *generalization*, and *feedback*. *Preparation* is measured of the slope of movement direction against reaction time. *Generalization* is measured as the width of a Gaussian fit to movements in direction around the target direction. *Feedback* is measured as the percentage of the full correction to target made during the movement. \n"
      ],
      "metadata": {
        "id": "Jlj_dpPIVqxT"
      }
    },
    {
      "cell_type": "markdown",
      "source": [
        "### Code for getting the probe trials"
      ],
      "metadata": {
        "id": "divx5w5Gkaow"
      }
    },
    {
      "cell_type": "code",
      "source": [
        "from pandas.core.frame import DataFrame\n",
        "skill_epochs = pd.DataFrame(\n",
        "    {'name': [\"baseline\", \"early\", \"middle\", \"late\"],\n",
        "     'block': [\"baseline\", \"rotation\", \"rotation\", \"rotation\"],\n",
        "     \"mvmt_nums\": [range(160), range(400), range(400,800), range(800,1200)], \n",
        "    }\n",
        ")\n",
        "skill_epochs.set_index('name')\n",
        "\n",
        "def get_probe_trials_by_epoch(mvmt_table: DataFrame, epoch, probe_type):\n",
        "  block_table = mvmt_table[mvmt_table[\"block\"] == epoch[\"block\"]]\n",
        "  epoch_table = block_table.iloc[epoch[\"mvmt_nums\"],:]\n",
        "  probe_table = epoch_table.loc[epoch_table[\"probe_type\"] == probe_type]\n",
        "  return probe_table"
      ],
      "metadata": {
        "id": "A-EGVG69IvgP"
      },
      "execution_count": 126,
      "outputs": []
    },
    {
      "cell_type": "code",
      "source": [
        "get_probe_trials_by_epoch(mvmt_table, skill_epochs.iloc[0,:], \"preparation\").head()"
      ],
      "metadata": {
        "colab": {
          "base_uri": "https://localhost:8080/",
          "height": 386
        },
        "id": "CrOmNPedlARk",
        "outputId": "c1b4cdd5-8051-4551-db46-6a8bdc918d0a"
      },
      "execution_count": 127,
      "outputs": [
        {
          "output_type": "execute_result",
          "data": {
            "text/plain": [
              "        block  feedback  rotation   probe_type   rt  target  jump    vis  \\\n",
              "300  baseline      True         0  preparation  300       0     0  False   \n",
              "302  baseline      True         0  preparation  300       0     0  False   \n",
              "310  baseline      True         0  preparation  100       0     0  False   \n",
              "320  baseline      True         0  preparation  100       0     0  False   \n",
              "322  baseline      True         0  preparation  300       0     0  False   \n",
              "\n",
              "           xs        xr  ...            SG            SF         y         h  \\\n",
              "300  0.002320  0.001762  ...  1.380888e-08  6.917255e-09  0.004213  0.004213   \n",
              "302  0.002702 -0.001437  ...  1.403346e-08  7.029566e-09 -0.000193 -0.000193   \n",
              "310  0.000009 -0.000599  ...  1.437227e-08  7.200424e-09 -0.000347 -0.000347   \n",
              "320  0.000543 -0.003058  ...  1.459813e-08  7.313643e-09 -0.003312 -0.003312   \n",
              "322 -0.000017 -0.002054  ...  1.476242e-08  7.395843e-09 -0.002426 -0.002426   \n",
              "\n",
              "          phi  rho  tau       eSP           eSG           eSF  \n",
              "300  0.425195  1.0  0.2 -0.047191  6.904439e-09  3.458628e-09  \n",
              "302  0.425195  1.0  0.2 -0.047191  7.016729e-09  3.514783e-09  \n",
              "310 -0.033034  1.0  0.2 -0.047191  7.186137e-09  3.600212e-09  \n",
              "320 -0.033034  1.0  0.2 -0.047191  7.299064e-09  3.656822e-09  \n",
              "322  0.425195  1.0  0.2 -0.047191  7.381211e-09  3.697922e-09  \n",
              "\n",
              "[5 rows x 21 columns]"
            ],
            "text/html": [
              "\n",
              "  <div id=\"df-67ceb22b-cfed-43d5-845f-6936060d833e\">\n",
              "    <div class=\"colab-df-container\">\n",
              "      <div>\n",
              "<style scoped>\n",
              "    .dataframe tbody tr th:only-of-type {\n",
              "        vertical-align: middle;\n",
              "    }\n",
              "\n",
              "    .dataframe tbody tr th {\n",
              "        vertical-align: top;\n",
              "    }\n",
              "\n",
              "    .dataframe thead th {\n",
              "        text-align: right;\n",
              "    }\n",
              "</style>\n",
              "<table border=\"1\" class=\"dataframe\">\n",
              "  <thead>\n",
              "    <tr style=\"text-align: right;\">\n",
              "      <th></th>\n",
              "      <th>block</th>\n",
              "      <th>feedback</th>\n",
              "      <th>rotation</th>\n",
              "      <th>probe_type</th>\n",
              "      <th>rt</th>\n",
              "      <th>target</th>\n",
              "      <th>jump</th>\n",
              "      <th>vis</th>\n",
              "      <th>xs</th>\n",
              "      <th>xr</th>\n",
              "      <th>...</th>\n",
              "      <th>SG</th>\n",
              "      <th>SF</th>\n",
              "      <th>y</th>\n",
              "      <th>h</th>\n",
              "      <th>phi</th>\n",
              "      <th>rho</th>\n",
              "      <th>tau</th>\n",
              "      <th>eSP</th>\n",
              "      <th>eSG</th>\n",
              "      <th>eSF</th>\n",
              "    </tr>\n",
              "  </thead>\n",
              "  <tbody>\n",
              "    <tr>\n",
              "      <th>300</th>\n",
              "      <td>baseline</td>\n",
              "      <td>True</td>\n",
              "      <td>0</td>\n",
              "      <td>preparation</td>\n",
              "      <td>300</td>\n",
              "      <td>0</td>\n",
              "      <td>0</td>\n",
              "      <td>False</td>\n",
              "      <td>0.002320</td>\n",
              "      <td>0.001762</td>\n",
              "      <td>...</td>\n",
              "      <td>1.380888e-08</td>\n",
              "      <td>6.917255e-09</td>\n",
              "      <td>0.004213</td>\n",
              "      <td>0.004213</td>\n",
              "      <td>0.425195</td>\n",
              "      <td>1.0</td>\n",
              "      <td>0.2</td>\n",
              "      <td>-0.047191</td>\n",
              "      <td>6.904439e-09</td>\n",
              "      <td>3.458628e-09</td>\n",
              "    </tr>\n",
              "    <tr>\n",
              "      <th>302</th>\n",
              "      <td>baseline</td>\n",
              "      <td>True</td>\n",
              "      <td>0</td>\n",
              "      <td>preparation</td>\n",
              "      <td>300</td>\n",
              "      <td>0</td>\n",
              "      <td>0</td>\n",
              "      <td>False</td>\n",
              "      <td>0.002702</td>\n",
              "      <td>-0.001437</td>\n",
              "      <td>...</td>\n",
              "      <td>1.403346e-08</td>\n",
              "      <td>7.029566e-09</td>\n",
              "      <td>-0.000193</td>\n",
              "      <td>-0.000193</td>\n",
              "      <td>0.425195</td>\n",
              "      <td>1.0</td>\n",
              "      <td>0.2</td>\n",
              "      <td>-0.047191</td>\n",
              "      <td>7.016729e-09</td>\n",
              "      <td>3.514783e-09</td>\n",
              "    </tr>\n",
              "    <tr>\n",
              "      <th>310</th>\n",
              "      <td>baseline</td>\n",
              "      <td>True</td>\n",
              "      <td>0</td>\n",
              "      <td>preparation</td>\n",
              "      <td>100</td>\n",
              "      <td>0</td>\n",
              "      <td>0</td>\n",
              "      <td>False</td>\n",
              "      <td>0.000009</td>\n",
              "      <td>-0.000599</td>\n",
              "      <td>...</td>\n",
              "      <td>1.437227e-08</td>\n",
              "      <td>7.200424e-09</td>\n",
              "      <td>-0.000347</td>\n",
              "      <td>-0.000347</td>\n",
              "      <td>-0.033034</td>\n",
              "      <td>1.0</td>\n",
              "      <td>0.2</td>\n",
              "      <td>-0.047191</td>\n",
              "      <td>7.186137e-09</td>\n",
              "      <td>3.600212e-09</td>\n",
              "    </tr>\n",
              "    <tr>\n",
              "      <th>320</th>\n",
              "      <td>baseline</td>\n",
              "      <td>True</td>\n",
              "      <td>0</td>\n",
              "      <td>preparation</td>\n",
              "      <td>100</td>\n",
              "      <td>0</td>\n",
              "      <td>0</td>\n",
              "      <td>False</td>\n",
              "      <td>0.000543</td>\n",
              "      <td>-0.003058</td>\n",
              "      <td>...</td>\n",
              "      <td>1.459813e-08</td>\n",
              "      <td>7.313643e-09</td>\n",
              "      <td>-0.003312</td>\n",
              "      <td>-0.003312</td>\n",
              "      <td>-0.033034</td>\n",
              "      <td>1.0</td>\n",
              "      <td>0.2</td>\n",
              "      <td>-0.047191</td>\n",
              "      <td>7.299064e-09</td>\n",
              "      <td>3.656822e-09</td>\n",
              "    </tr>\n",
              "    <tr>\n",
              "      <th>322</th>\n",
              "      <td>baseline</td>\n",
              "      <td>True</td>\n",
              "      <td>0</td>\n",
              "      <td>preparation</td>\n",
              "      <td>300</td>\n",
              "      <td>0</td>\n",
              "      <td>0</td>\n",
              "      <td>False</td>\n",
              "      <td>-0.000017</td>\n",
              "      <td>-0.002054</td>\n",
              "      <td>...</td>\n",
              "      <td>1.476242e-08</td>\n",
              "      <td>7.395843e-09</td>\n",
              "      <td>-0.002426</td>\n",
              "      <td>-0.002426</td>\n",
              "      <td>0.425195</td>\n",
              "      <td>1.0</td>\n",
              "      <td>0.2</td>\n",
              "      <td>-0.047191</td>\n",
              "      <td>7.381211e-09</td>\n",
              "      <td>3.697922e-09</td>\n",
              "    </tr>\n",
              "  </tbody>\n",
              "</table>\n",
              "<p>5 rows × 21 columns</p>\n",
              "</div>\n",
              "      <button class=\"colab-df-convert\" onclick=\"convertToInteractive('df-67ceb22b-cfed-43d5-845f-6936060d833e')\"\n",
              "              title=\"Convert this dataframe to an interactive table.\"\n",
              "              style=\"display:none;\">\n",
              "        \n",
              "  <svg xmlns=\"http://www.w3.org/2000/svg\" height=\"24px\"viewBox=\"0 0 24 24\"\n",
              "       width=\"24px\">\n",
              "    <path d=\"M0 0h24v24H0V0z\" fill=\"none\"/>\n",
              "    <path d=\"M18.56 5.44l.94 2.06.94-2.06 2.06-.94-2.06-.94-.94-2.06-.94 2.06-2.06.94zm-11 1L8.5 8.5l.94-2.06 2.06-.94-2.06-.94L8.5 2.5l-.94 2.06-2.06.94zm10 10l.94 2.06.94-2.06 2.06-.94-2.06-.94-.94-2.06-.94 2.06-2.06.94z\"/><path d=\"M17.41 7.96l-1.37-1.37c-.4-.4-.92-.59-1.43-.59-.52 0-1.04.2-1.43.59L10.3 9.45l-7.72 7.72c-.78.78-.78 2.05 0 2.83L4 21.41c.39.39.9.59 1.41.59.51 0 1.02-.2 1.41-.59l7.78-7.78 2.81-2.81c.8-.78.8-2.07 0-2.86zM5.41 20L4 18.59l7.72-7.72 1.47 1.35L5.41 20z\"/>\n",
              "  </svg>\n",
              "      </button>\n",
              "      \n",
              "  <style>\n",
              "    .colab-df-container {\n",
              "      display:flex;\n",
              "      flex-wrap:wrap;\n",
              "      gap: 12px;\n",
              "    }\n",
              "\n",
              "    .colab-df-convert {\n",
              "      background-color: #E8F0FE;\n",
              "      border: none;\n",
              "      border-radius: 50%;\n",
              "      cursor: pointer;\n",
              "      display: none;\n",
              "      fill: #1967D2;\n",
              "      height: 32px;\n",
              "      padding: 0 0 0 0;\n",
              "      width: 32px;\n",
              "    }\n",
              "\n",
              "    .colab-df-convert:hover {\n",
              "      background-color: #E2EBFA;\n",
              "      box-shadow: 0px 1px 2px rgba(60, 64, 67, 0.3), 0px 1px 3px 1px rgba(60, 64, 67, 0.15);\n",
              "      fill: #174EA6;\n",
              "    }\n",
              "\n",
              "    [theme=dark] .colab-df-convert {\n",
              "      background-color: #3B4455;\n",
              "      fill: #D2E3FC;\n",
              "    }\n",
              "\n",
              "    [theme=dark] .colab-df-convert:hover {\n",
              "      background-color: #434B5C;\n",
              "      box-shadow: 0px 1px 3px 1px rgba(0, 0, 0, 0.15);\n",
              "      filter: drop-shadow(0px 1px 2px rgba(0, 0, 0, 0.3));\n",
              "      fill: #FFFFFF;\n",
              "    }\n",
              "  </style>\n",
              "\n",
              "      <script>\n",
              "        const buttonEl =\n",
              "          document.querySelector('#df-67ceb22b-cfed-43d5-845f-6936060d833e button.colab-df-convert');\n",
              "        buttonEl.style.display =\n",
              "          google.colab.kernel.accessAllowed ? 'block' : 'none';\n",
              "\n",
              "        async function convertToInteractive(key) {\n",
              "          const element = document.querySelector('#df-67ceb22b-cfed-43d5-845f-6936060d833e');\n",
              "          const dataTable =\n",
              "            await google.colab.kernel.invokeFunction('convertToInteractive',\n",
              "                                                     [key], {});\n",
              "          if (!dataTable) return;\n",
              "\n",
              "          const docLinkHtml = 'Like what you see? Visit the ' +\n",
              "            '<a target=\"_blank\" href=https://colab.research.google.com/notebooks/data_table.ipynb>data table notebook</a>'\n",
              "            + ' to learn more about interactive tables.';\n",
              "          element.innerHTML = '';\n",
              "          dataTable['output_type'] = 'display_data';\n",
              "          await google.colab.output.renderOutput(dataTable, element);\n",
              "          const docLink = document.createElement('div');\n",
              "          docLink.innerHTML = docLinkHtml;\n",
              "          element.appendChild(docLink);\n",
              "        }\n",
              "      </script>\n",
              "    </div>\n",
              "  </div>\n",
              "  "
            ]
          },
          "metadata": {},
          "execution_count": 127
        }
      ]
    },
    {
      "cell_type": "markdown",
      "source": [
        "### Preparation\n",
        "*Preparation* is measured as the slope of the relationship between preparation time and error."
      ],
      "metadata": {
        "id": "jMCwMsuJIflL"
      }
    },
    {
      "cell_type": "code",
      "source": [
        "linear_regression = LinearRegression()\n",
        "def get_preparation_measure(probes):\n",
        "  condition = probes[\"rt\"].to_numpy().reshape(-1,1)\n",
        "  h = probes[\"h\"].to_numpy().reshape(-1,1)\n",
        "  reg = linear_regression.fit(condition, h)\n",
        "  return reg.coef_[0][0]"
      ],
      "metadata": {
        "id": "-weTFpAIpVec"
      },
      "execution_count": 128,
      "outputs": []
    },
    {
      "cell_type": "code",
      "source": [
        "def plot_preparation_by_epoch(mvmt_table, skill_epochs):\n",
        "  fig, ax = plt.subplots(1,4, sharey=True, figsize=(12,6))\n",
        "  fig.suptitle('Preparation probes by epoch')\n",
        "  for i, epoch in skill_epochs.iterrows():\n",
        "    probes = get_probe_trials_by_epoch(mvmt_table, epoch, 'preparation')\n",
        "    measure = get_preparation_measure(probes)\n",
        "    ax[i].plot(probes[\"rt\"], probes[\"h\"], 'bo')\n",
        "    ax[i].set_xlabel('RT (ms)')\n",
        "    ax[i].set_title(f'{epoch[\"name\"]}: {measure:.2}')\n",
        "\n",
        "  ax[0].set_ylabel('Hand direction')\n",
        "\n",
        "plot_preparation_by_epoch(mvmt_table, skill_epochs)"
      ],
      "metadata": {
        "id": "CkrfOpFxWGQd",
        "colab": {
          "base_uri": "https://localhost:8080/",
          "height": 431
        },
        "outputId": "f54ebb58-ac6b-45a6-9087-5ace9a3019f4"
      },
      "execution_count": 129,
      "outputs": [
        {
          "output_type": "display_data",
          "data": {
            "text/plain": [
              "<Figure size 864x432 with 4 Axes>"
            ],
            "image/png": "[encoded data removed]"
          },
          "metadata": {
            "needs_background": "light"
          }
        }
      ]
    },
    {
      "cell_type": "markdown",
      "source": [
        "### Generalization\n",
        "\n",
        "Generalization is measures as the width of a gaussian fit"
      ],
      "metadata": {
        "id": "76WoKrYbwayB"
      }
    },
    {
      "cell_type": "code",
      "source": [
        "def gaussian(x, *p):\n",
        "  A, mu, sigma = p\n",
        "  return A*np.exp(-(x-mu)**2/(2.*sigma**2))\n",
        "\n",
        "def get_generalization_measure(probes, non_probes):\n",
        "  mvmts = pd.concat([probes, non_probes])\n",
        "\n",
        "  condition = mvmts[\"target\"].to_numpy()\n",
        "  y = mvmts[\"y\"].to_numpy()\n",
        "  max_y = [y1 for y1 in y if abs(y1) == np.max(abs(y))][0]\n",
        "\n",
        "  p0 = (max_y, 0, 10)\n",
        "  try:\n",
        "    coeff, var_matrix = curve_fit(gaussian, condition, y, p0=p0)\n",
        "  except:\n",
        "    coeff = [np.nan,np.nan,np.nan]\n",
        "  return coeff[2]"
      ],
      "metadata": {
        "id": "C8Molkk7wtl5"
      },
      "execution_count": 130,
      "outputs": []
    },
    {
      "cell_type": "code",
      "source": [
        "probes = get_probe_trials_by_epoch(mvmt_table, skill_epochs.iloc[1,:], 'generalization')\n",
        "non_probes = get_probe_trials_by_epoch(mvmt_table, skill_epochs.iloc[1,:], '')\n",
        "g = get_generalization_measure(probes, non_probes)\n",
        "print(g)"
      ],
      "metadata": {
        "colab": {
          "base_uri": "https://localhost:8080/"
        },
        "id": "K84JuHdKynWU",
        "outputId": "d872dd20-d8d7-4738-834c-432245ecc11f"
      },
      "execution_count": 131,
      "outputs": [
        {
          "output_type": "stream",
          "name": "stdout",
          "text": [
            "17.683994341572067\n"
          ]
        }
      ]
    },
    {
      "cell_type": "code",
      "source": [
        "def plot_generalization_by_epoch(mvmt_table, skill_epochs):\n",
        "  fig, ax = plt.subplots(1,4, sharey=True, figsize=(12,6))\n",
        "  fig.suptitle('Generalization probes by epoch')\n",
        "  for i, epoch in skill_epochs.iterrows():\n",
        "    probes = get_probe_trials_by_epoch(mvmt_table, epoch, 'generalization')\n",
        "    non_probes = get_probe_trials_by_epoch(mvmt_table, epoch, '')\n",
        "    \n",
        "    measure = get_generalization_measure(probes, non_probes)\n",
        "    ax[i].plot(probes[\"target\"], probes[\"y\"], 'bo')\n",
        "    ax[i].plot(non_probes[\"target\"], non_probes[\"y\"], 'ro')\n",
        "    ax[i].set_xlabel('Target')\n",
        "    ax[i].set_title(f'{epoch[\"name\"]}: {measure:.1f}')\n",
        "\n",
        "  ax[0].set_ylabel('Hand direction')\n",
        "\n",
        "plot_generalization_by_epoch(mvmt_table, skill_epochs)\n"
      ],
      "metadata": {
        "colab": {
          "base_uri": "https://localhost:8080/",
          "height": 431
        },
        "outputId": "73f33496-700a-418d-fe17-0715df9e0c80",
        "id": "PrbDvegM0upY"
      },
      "execution_count": 132,
      "outputs": [
        {
          "output_type": "display_data",
          "data": {
            "text/plain": [
              "<Figure size 864x432 with 4 Axes>"
            ],
            "image/png": "[encoded data removed]"
          },
          "metadata": {
            "needs_background": "light"
          }
        }
      ]
    },
    {
      "cell_type": "markdown",
      "source": [
        "### Feedback\n",
        "\n",
        "Feedback is the percentage of the difference between movements to the original target and movements to the generalization target."
      ],
      "metadata": {
        "id": "k6wpuoUT5PNH"
      }
    },
    {
      "cell_type": "code",
      "source": [
        "def get_feedback_measure(fb_probes, gnl_probes, non_probes):\n",
        "  jump_targets = fb_probes.jump.unique()\n",
        "  non_probe_mean = np.mean(non_probes[\"h\"])\n",
        "  compensation_list = list()\n",
        "  for condition in jump_targets:\n",
        "    fb = fb_probes.loc[fb_probes[\"jump\"]==condition,\"h\"]\n",
        "    fb_mean = np.mean(fb)\n",
        "    gnl = gnl_probes.loc[gnl_probes[\"target\"]==condition,\"h\"] + gnl_probes.loc[gnl_probes[\"target\"]==condition,\"target\"]\n",
        "    gnl_mean = np.mean(gnl)\n",
        "    compensation = (fb_mean - non_probe_mean) / (gnl_mean - non_probe_mean)\n",
        "    compensation_list.append(compensation)\n",
        "  \n",
        "  return np.mean(compensation)\n"
      ],
      "metadata": {
        "id": "EE7mOig36Qi4"
      },
      "execution_count": 133,
      "outputs": []
    },
    {
      "cell_type": "code",
      "source": [
        "def plot_feedback_by_epoch(mvmt_table, skill_epochs):\n",
        "  fig, ax = plt.subplots(1,4, sharey=True, figsize=(12,6))\n",
        "  fig.suptitle('Feedback probes by epoch')\n",
        "  for i, epoch in skill_epochs.iterrows():\n",
        "    fb_probes = get_probe_trials_by_epoch(mvmt_table, epoch, 'feedback')\n",
        "    gnl_probes = get_probe_trials_by_epoch(mvmt_table, epoch, 'generalization')\n",
        "    non_probes = get_probe_trials_by_epoch(mvmt_table, epoch, '')\n",
        "    measure = get_feedback_measure(fb_probes, gnl_probes, non_probes)\n",
        "\n",
        "    ax[i].plot(non_probes[\"target\"], non_probes[\"h\"], 'ro')\n",
        "    ax[i].plot(gnl_probes[\"target\"], gnl_probes[\"h\"]+gnl_probes[\"target\"], 'go')\n",
        "    ax[i].plot(fb_probes[\"jump\"], fb_probes[\"h\"], 'bo')\n",
        "    ax[i].set_xlabel('Target')\n",
        "    ax[i].set_title(f'{epoch[\"name\"]}: {measure:.1f}')\n",
        "\n",
        "  ax[0].set_ylabel('Hand direction')\n",
        "\n",
        "plot_feedback_by_epoch(mvmt_table, skill_epochs)"
      ],
      "metadata": {
        "colab": {
          "base_uri": "https://localhost:8080/",
          "height": 431
        },
        "id": "XAX6_fRg-MTy",
        "outputId": "4582bf7f-a0e7-4d9c-bdef-bb7d61c267ed"
      },
      "execution_count": 134,
      "outputs": [
        {
          "output_type": "display_data",
          "data": {
            "text/plain": [
              "<Figure size 864x432 with 4 Axes>"
            ],
            "image/png": "[encoded data removed]"
          },
          "metadata": {
            "needs_background": "light"
          }
        }
      ]
    },
    {
      "cell_type": "markdown",
      "source": [
        "# Experiment 1\n",
        "\n",
        "Experiment 1 has two groups: low RT (150 ms) and high RT (350 ms)."
      ],
      "metadata": {
        "id": "hhkCt10slnQ5"
      }
    },
    {
      "cell_type": "code",
      "source": [
        "groups = pd.DataFrame(\n",
        "    {'name': ['low RT', 'high RT'],\n",
        "     'rt': [100, 400]}\n",
        ")\n",
        "\n",
        "\n",
        "exp1_mvmt_tables = list()\n",
        "for i,group in groups.iterrows():\n",
        "  group_mvmt_table = mvmt_table.copy()\n",
        "  selected_blocks = group_mvmt_table['block'].isin(['baseline', 'rotation', 'washout'])\n",
        "  selected_movements = group_mvmt_table[\"probe_type\"] != 'preparation'\n",
        "  group_mvmt_table.loc[selected_blocks & selected_movements, \"rt\"] = group[\"rt\"]\n",
        "\n",
        "  group_mvmt_table = run_experiment(group_mvmt_table, p0)\n",
        "  exp1_mvmt_tables.append(group_mvmt_table)\n"
      ],
      "metadata": {
        "id": "3lG4pb7294i7"
      },
      "execution_count": 143,
      "outputs": []
    },
    {
      "cell_type": "code",
      "source": [
        "def plot_learning_curve_compare(mvmt_tables, table_names):\n",
        "  plot_names = ('Hand', 'Strategy', 'Recalibration', 'Preparation', 'Generalization', 'Feedback')\n",
        "  plot_variables = ('h', 'xs', 'xr', 'eSP', 'eSG', 'eSF')\n",
        "  plot_ylabels = ('deg', 'xs (deg)', 'xr (deg)', 'expit(SP)', 'expit(SG)', 'expit(SF)')\n",
        "  plot_ylims = ([-35, 5], [-35, 5], [-35, 5], [-0.05, 1.05], [-0.05, 1.05], [-0.05, 1.05])\n",
        "\n",
        "  num_plots = len(plot_names)\n",
        "  fig, ax = plt.subplots(num_plots, sharex=True)\n",
        "  fig.suptitle('Compare runs')\n",
        "\n",
        "  plot_specs = zip(plot_names, plot_variables, plot_ylabels, plot_ylims)\n",
        "  for v_i, (v_name, v, ylabel, ylim) in enumerate(plot_specs):\n",
        "    for t_i, (t_name, t) in enumerate(zip(table_names, mvmt_tables)):\n",
        "      ax[v_i].plot(t[v], label=t_name)\n",
        "    ax[v_i].set_title(v_name)\n",
        "    ax[v_i].set_ylabel(ylabel)\n",
        "    ax[v_i].set_ylim(ylim)\n",
        "    ax[v_i].legend()\n",
        "  return fig, ax\n",
        "\n",
        "plot_learning_curve_compare(exp1_mvmt_tables, groups[\"name\"].to_numpy())"
      ],
      "metadata": {
        "colab": {
          "base_uri": "https://localhost:8080/",
          "height": 933
        },
        "id": "rX2ca9Fjuita",
        "outputId": "06cff51d-f9dc-4e20-d1d9-328c5c26f07b"
      },
      "execution_count": 144,
      "outputs": [
        {
          "output_type": "execute_result",
          "data": {
            "text/plain": [
              "(<Figure size 864x864 with 6 Axes>,\n",
              " array([<matplotlib.axes._subplots.AxesSubplot object at 0x7fe48917f810>,\n",
              "        <matplotlib.axes._subplots.AxesSubplot object at 0x7fe48a4b9b10>,\n",
              "        <matplotlib.axes._subplots.AxesSubplot object at 0x7fe489b6f090>,\n",
              "        <matplotlib.axes._subplots.AxesSubplot object at 0x7fe4889dc790>,\n",
              "        <matplotlib.axes._subplots.AxesSubplot object at 0x7fe48a496450>,\n",
              "        <matplotlib.axes._subplots.AxesSubplot object at 0x7fe4888f9f10>],\n",
              "       dtype=object))"
            ]
          },
          "metadata": {},
          "execution_count": 144
        },
        {
          "output_type": "display_data",
          "data": {
            "text/plain": [
              "<Figure size 864x864 with 6 Axes>"
            ],
            "image/png": "[encoded data removed]"
          },
          "metadata": {
            "needs_background": "light"
          }
        }
      ]
    },
    {
      "cell_type": "markdown",
      "source": [
        "# Experiment 2\n",
        "\n",
        "Experiment 2 has two groups: no delay and 500 ms delay"
      ],
      "metadata": {
        "id": "Zaj1rN6clsmV"
      }
    }
  ]
}